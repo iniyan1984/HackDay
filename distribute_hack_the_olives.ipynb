{
  "nbformat": 4,
  "nbformat_minor": 0,
  "metadata": {
    "kernelspec": {
      "display_name": "ml1-arm64",
      "language": "python",
      "name": "ml1-arm64"
    },
    "language_info": {
      "codemirror_mode": {
        "name": "ipython",
        "version": 3
      },
      "file_extension": ".py",
      "mimetype": "text/x-python",
      "name": "python",
      "nbconvert_exporter": "python",
      "pygments_lexer": "ipython3",
      "version": "3.9.1"
    },
    "colab": {
      "name": "distribute_hack_the_olives.ipynb",
      "provenance": [],
      "include_colab_link": true
    },
    "widgets": {
      "application/vnd.jupyter.widget-state+json": {
        "fb38bf99b21c419483e855596f720834": {
          "model_module": "@jupyter-widgets/controls",
          "model_name": "VBoxModel",
          "state": {
            "_view_name": "VBoxView",
            "_dom_classes": [
              "widget-interact"
            ],
            "_model_name": "VBoxModel",
            "_view_module": "@jupyter-widgets/controls",
            "_model_module_version": "1.5.0",
            "_view_count": null,
            "_view_module_version": "1.5.0",
            "box_style": "",
            "layout": "IPY_MODEL_bc5cd2c45cc84fb5b625127753fb00ef",
            "_model_module": "@jupyter-widgets/controls",
            "children": [
              "IPY_MODEL_d43e9699b20b41b68b6ccaf8ce10426b",
              "IPY_MODEL_ea17717ce0ea4b38a9d3858c7bd69f11"
            ]
          }
        },
        "bc5cd2c45cc84fb5b625127753fb00ef": {
          "model_module": "@jupyter-widgets/base",
          "model_name": "LayoutModel",
          "state": {
            "_view_name": "LayoutView",
            "grid_template_rows": null,
            "right": null,
            "justify_content": null,
            "_view_module": "@jupyter-widgets/base",
            "overflow": null,
            "_model_module_version": "1.2.0",
            "_view_count": null,
            "flex_flow": null,
            "width": null,
            "min_width": null,
            "border": null,
            "align_items": null,
            "bottom": null,
            "_model_module": "@jupyter-widgets/base",
            "top": null,
            "grid_column": null,
            "overflow_y": null,
            "overflow_x": null,
            "grid_auto_flow": null,
            "grid_area": null,
            "grid_template_columns": null,
            "flex": null,
            "_model_name": "LayoutModel",
            "justify_items": null,
            "grid_row": null,
            "max_height": null,
            "align_content": null,
            "visibility": null,
            "align_self": null,
            "height": null,
            "min_height": null,
            "padding": null,
            "grid_auto_rows": null,
            "grid_gap": null,
            "max_width": null,
            "order": null,
            "_view_module_version": "1.2.0",
            "grid_template_areas": null,
            "object_position": null,
            "object_fit": null,
            "grid_auto_columns": null,
            "margin": null,
            "display": null,
            "left": null
          }
        },
        "d43e9699b20b41b68b6ccaf8ce10426b": {
          "model_module": "@jupyter-widgets/controls",
          "model_name": "IntSliderModel",
          "state": {
            "_view_name": "IntSliderView",
            "style": "IPY_MODEL_a6f3734f4ac748b6999f2844ac8d1472",
            "_dom_classes": [],
            "description": "N",
            "step": 10,
            "_model_name": "IntSliderModel",
            "orientation": "horizontal",
            "max": 200,
            "_view_module": "@jupyter-widgets/controls",
            "_model_module_version": "1.5.0",
            "value": 90,
            "_view_count": null,
            "disabled": false,
            "_view_module_version": "1.5.0",
            "min": 10,
            "continuous_update": true,
            "readout_format": "d",
            "description_tooltip": null,
            "readout": true,
            "_model_module": "@jupyter-widgets/controls",
            "layout": "IPY_MODEL_bb8a42ad601e45b495648d9e30623179"
          }
        },
        "ea17717ce0ea4b38a9d3858c7bd69f11": {
          "model_module": "@jupyter-widgets/output",
          "model_name": "OutputModel",
          "state": {
            "_view_name": "OutputView",
            "msg_id": "",
            "_dom_classes": [],
            "_model_name": "OutputModel",
            "outputs": [
              {
                "output_type": "display_data",
                "metadata": {
                  "tags": [],
                  "needs_background": "light"
                },
                "image/png": "iVBORw0KGgoAAAANSUhEUgAAAXYAAAD8CAYAAABjAo9vAAAABHNCSVQICAgIfAhkiAAAAAlwSFlzAAALEgAACxIB0t1+/AAAADh0RVh0U29mdHdhcmUAbWF0cGxvdGxpYiB2ZXJzaW9uMy4yLjIsIGh0dHA6Ly9tYXRwbG90bGliLm9yZy+WH4yJAAAgAElEQVR4nO2dd5ycVbmAn7OzvW9mspuQ3nuDEBJD702agCCIFAGlCIoC4lWvV8WOVwVFpCh4QQEBkRJaUKQnAQKRQEICIQkpW1K213P/eGdmZ2a/mZ3ZnbYz75Pf/HYz85XzzX7fe97zVmOtRVEURckcclI9AEVRFCW+qGBXFEXJMFSwK4qiZBgq2BVFUTIMFeyKoigZhgp2RVGUDCMugt0YU2mMedAY854xZq0xZkk8jqsoiqLETm6cjvMrYJm19nRjTD5QHKfjKoqiKDFiBpugZIypAN4CJlrNdlIURUk58dDYJwC1wF3GmHnAKuAqa21z4EbGmEuASwBKSkr2mz59ehxOrSiKkj2sWrWqzlo7vL/t4qGxLwReBZZaa18zxvwK2Gut/Xa4fRYuXGhXrlw5qPMqiqJkG8aYVdbahf1tFw/n6RZgi7X2Ne//HwT2jcNxFUVRlAEwaMFurd0ObDbGTPO+dQTw7mCPqyiKogyMeEXFXAn8nzciZiNwQZyOqyiKosRIXAS7tfYtoF+7j6IoipJ4NPNUURQlw1DBriiKkmGoYFcURckwVLAriqJkGCrYFUVRMgwV7IqiKBlGvOLYlWj4CFgJDAMOJj7fvgXWAy3ADKAgDsdUFGVIoxp7MmgBTkYE70XAKcAIYPkgj/tvYAqwAJkohgM/R4S9oihZi2rsyeA84GmgzfvycRKwGpg0gGOuAY5FJo1AvotM118bwDEVRckIVGNPNFuAxwkW6D46gJsGeNzvhzlmC/A/3mMPBWqB54G30ZWGosQJFeyJ5m3C2707gZcHeNzngZ4wn3UDHwzwuMmiHfgCMBY4FfgUYlZ6M5WDUpTMQAV7onEjgjYcNQM8bqTmg11A6QCPm0gs8FdgHjK+e5BVxx6gGdgAHApsS9H4FCVDUMGeaBYhUTBOlABXDPC4FwGFYT6bhGjC6cb1yLjfRiYfJ9NLO/DbZA5KUTIPFeyJxiCtR8oINsmUAJ8BThjgca8GxhMs3F2IJnzXAI+ZSD4Cfo1o5pFoB55N+GgUJaPRqJhksD/wPnALYhuvBr4EHI0I/oFQBqwAbgbuRJymRwM3AJMHOd5E8DDRO0fDrXAURYkKFezJYiTwgzgfsxQxb1wf5+MmgjYi+xp8lACXAo3e7SsTOagUsQXJQShEJuOSGPbdBfwZ+A/ibD4PyV9QlADUFKMkhyPpPyu2BDgAuBFxOlcDM4FnEju0pNEFnI+sqC71/l6NrLii4QXEd3I98Hvg24g57rH4DlMZ+qhgV5LD/ojQDnX45iAC/0Dgv4FXgdeQUNBOYC2StftUsgaaQK4DHkD8CI3AXsSEdiViootEM3Ai0ERvUlqr9/fPAnUJGK8yZFHBriSPx4DPA0WIGakQEUo7ENPEvxBhFUor4iweyrQAt9I3U9j32ff72f8hwvsoLBI66qMR+B4wDjHTnIZkOCtZg9rYleRRBNwG/BKJVa9BnMA+niO88NoINDB0HaubkKilcPQneDcRPqKold6EtCYkxPYjejOTH0FWPI8Bh0UxVmXIoxq7knxKEDtzWcj7ke5GS2TBmO54iFzmwd3P/lMI72QtBmZ5f/8dMgkElpuwyKrgArRsQ5aggl1JH04m/B05D6hI4ljizXCkbILT5FQMfKWf/U8hvPPZBZzj/f1OnM1ZIHb4d/s5j5IRxEWwG2M+Msa8Y4x5yxizMh7HVLKQHyDCO/SuLEbi9Yc6f0QEfGA5iFLEcXxpP/sWIIlbbmSlk+Pdtxx4kt5JL5xQB5kAIn2uZAzxtLEfZq1V33yqeQPR2nYidVc+T1+TR7oyAVgFfAuxC3cDRyDhj/NTOK54MRZYB/wJ+DsimC8Ejic6M9N84BPvvusR5+hpiO/Cx7HAHUhoZSgWmD3AsStDCmPt4I1uxpiPgIXRCvaFCxfalStVsR8w3Yi9tijk/W8gdVbakMqPJUjkyUvAtGQOMI40AR8imu6IFI9lKPAhYrZqDHm/GPgOEnKpDFmMMaustQv72y5eNnYLPG2MWWWMuSTMgC4xxqw0xqysra2N02mzjG1IeGAxooVPBP7i/ewZxHHWQm8532YkkuTU5A4zLnQgBdKqEVPFeGQF8nHqhjQkmIAkMs1DJvVSJHv3B8C1AdtZ73ZXIt/zs6hjNYOIl8Y+ylq71RhTjYiYK621L4TbXjX2AbALiXyoJXiZXQz8DHgCaejhRAlS931uIgcYZ85GTA6BNmEXormvJz3LEieKTuAPSK2hemA/4L+AJf3stxVZ8UwE8gLe70C6d72IKAIW+T7nI52+QleCStqQVI3dWrvV+3MnUu5pUTyOqwTwW0S4h9pOW5AU848i7JuL2GaHCh8hNvZQR183YmK4O9kDSiHdSAXQbyARLTsQZ+mRSG37SIxCTHB5Ie//CNHWm+nV0puQRuvfisuolRQzaMFujCkxxpT5fkfKGq0Z7HGVEP6Kcys8kAqRYwjvgGsHpidiUCFYpGTwdGSVMBXRNGNdFP6b8G79ZrKrNsrfkdVWYMaqLy79YuRvGys34xwd04b8vcJ15lKGDPHQ2GuAF40xq4HXgcettcvicFwlkEjlfdsQ27tTnHM+cDBio040lyM22/cRwbMeKQVwUYzHKSby9ZZ5j/8BsDv2YQ4p7iB8xqkBlsd4PIuYc8LRFuF8ypBh0ILdWrvRWjvP+5plrf1hPAYWV9oRYbMz1QMZBOcQXovtQDSwu+h1rBZ6f9+XXgdrtLQh5o4vAt9Evrv+eA+J0w4VCi3e878Tw/mPIXyJ3xLkWj3AAiRS5mSSVwSrFngLcUong739fO5UeyYSBikhHY4yYisjrKQlmZ152oOEeHmAhUgc8cFIb82hxheJXM/8Z8CZiA3298AvkKJarwBVMZxnIxJZcTmiLf4cEaDf62e/RxAnnxMdSBepaGkFDqev1u6btJ71btOETNpPAouJnLI/WOqQ6opjgEMQ+/VZ9A0rjDcnEt6Z2YFks8bKdTj3zC0GvkqmS4WsILP/hF9FBFwTvULgJUQIRFqOpiOWvk6wQDZ7f5YiESWXIZNZtMf2CcVTkJVNk/f/XYgQ/SnicAtHO+Ennm6itwVvQZJoniHYNp+LXNMe+tqHO5EJ7W9RniNWuoGDkIiRdkSLbkMms2NIbJjgxYjAdcrGPZvI2nc4rvDuW4iY7/KRyeMkZIWmDHkyV7DXIZUEQ5eqPYi54Nakj2hwlBM5T9gzgGPuRTRzXwndGsTs4uQ8a0WqMobjKJy1QJCl/bFRjulqZNJ1mghejLBfE/CPKM8RK48jE07oiqQdacz9SoLOC1LN8lUkzqwQuQ+KgEuQ+3sg5AC3I2P/EZLZuwq4D633miFk7p/xFUQTcYokaUWEQKpCu9qA+5EytcOAL9CbMl/rfY0j2NaZ593uLvpeUxGx1yvvAJYiDk6fEI3kg7CImSYcS5AVwmsh4ytA4ucPiWJMXcCjOGv+XYjwyQ+zryFxtuGn6V3BhNKGmLwGYhKJlsnI/bwFse1PJD5x/FOQVa2ScWSuxh7aqSeUVDmINiMP6uWIg/LXiIC9CNF6xyCmouFIhEmg3fhniJD0PdQ+YXY4cE2M43gQST+P1kSSA8yJ8LlBbN1fQCaaYu/PzyNmlUB7+XZE4yxH/k6HIVppB5FD7bpwroGC93zn9ncRA6Sc8KGkeYRfqcSb0QT//RUlDHHJPI2VpGSetiPp6E5RBSWIg/Ech88SzRJgBX21UuN9BQq2IsR5dn/Aez2I8/ARZL31WURbjBQe6MRJxGa6KEL8Ewui2LYVWXUMp6/jrxZJdw/NoC1CtPVLCb8ymAt8Dvgfgk1sxYit+2/E/j1EwxrEFOIU+12IrHpGJ+C8ihJCsmvFpB8FiA0yVJsqQgTLmUkfkWjIq3E2NVj6aqs+k1FgFE8OkgL2W3q1/XgLsxxEYOXSW0jst0Qn1EG+47E4R3P8FLGhh2rerUhNm3E4x+MXIfbg6xBb8EKkVO0UJHLnARIj1EGcuRfRd5XnQr6jhcCX6XVgK0qKyVwbO4g2OxoJ1VuJhP1dhkQFRIowSRRbEBtxLDWxXUg0yqQ4j+UsJLnFKRklF4k9fx/5zj5D/FrS3Uf4sMQmpKlzvncMvokhD/gVUt4WZLVxUpzGEy2/RkJlf4qUPNiNTMa+iKvbkezgFcT/b6UoMZLZgh1Eo3061YPwMpnYU8BzSExRptOBHyP1wQPHVIJ08zk5AeeE8DbyQDqQVcLZiKa8L6m/Uw1wRsDrIYJXWF1IKObXkDIAipJCMtcUk46MRMwo4VqcOdEFHJeAseQjNvOLEWHuqzfzSyCW3OF24CZES3UjxakixbufSHRNJXxx4otIvVAPxCKC28nJ24NU2YyUSKYoSUAFe7K5G9FASxDhWoII+jn09QcUI/bjRPX6LAN+g2RPtiO1zi8melt1FxLJ823E4dmAhHAeB/w5zD7fonci6Y90TCLrIbLg7iG6VYmiJBAV7MmmAtGUlwM/QWy3nwBvIlmy0xHN92BEM7wsCWMyDMzn8CDSii80CawFGbeT2WkCEpN9CP1r4uMGMKZE4yJym75ZxLYiU5QEkE6L3OzBICaG0Kr1X/K+hgp3Erny4PM4Z5zO9H7WiHT2uZm+k0MJ6Vsb/GfAp+k75iLvZ4qSYlRjVwZOf5UFw9WP91GGpLN/BnGW+ipSFiIT3AWDHWCCOByJgBmDjLcYKQr2f0g8vaKkGNXYlWC2IaUFJiAZl5E4CTHFOIVvRlt50IX4Hb6DRC+5kI5B6Z7wcyIyzo2IQ3USiYujV5QYUcGuCFuQlPxXERtxB1IO4NeEL8/wRcS5205wlEgxUlqgOobzT/a+4kk7Em8+jPjnLTQgdXteQ5KxLkba0ClKAujp6aG9PfpYaRXsitjJD0BK3waW2P0zor0/Ema/YYhgO9/70yc8v4Kk/aeKJqS4lS8yJxfJDP0B4YuIxcLrSDRQF2KOykUyc38EXBWH4ytZS09PDzk5OXR1dfHCCy9QV1dHfX099fX1jB07NurjqGBX4F4kuSY0jK8VMY+sQ/qXOjEBqW64E2m2PY7+C7Alkh6kqNg7BEfl3IxcR7hJKlq6EDPM3pD3upBa5kcgJQgUpR8++OADdu7cSX19vV+AT548mVNOOQWXy8Xrr79OSUkJbrebSZMmsc8++0R9bBXsitQbDxfdkoM0lw4n2H1UE5vpJVE8jbTpC121+iapd4hcpbI/niO8U7gD+B1wyyCOr2QMra2tfoFdV1dHXV0dxcXFnHSS1MNYtmyZ/z2Px8OUKVOYOHEiAMYYrr32WnJyBhbfooJdiewkbSc+5otk8Sjha6d3A08xOMG+lfClhbuJXLNeyTi6u7vZtWuXX4C3tbVxxBFHAPDAAw+wcaPcEC6Xi6qqKsaN603OOOussyguLqa42Lnu80CFOqhgHzp0A/9EnJwzgP2RKIw2pADVbYjWfRRwLdKMIVrOR0reOoUvdiFp8p9CYrSfRcIULwEuJP2ScfKR78WpGnUOg3eizozwWQHRtyNUhgzWWlpaWqirq6OhoYH58+djjOGZZ57hlVdeoaend6YvLy/n8MMPxxjDgQceyOLFi3G73VRVVfUR1B7PQNqeRUfm1mPPJN5A7LpNiMCyiOB+CKnSuJZeoZyL2LiXI8I/GixiavkgzOf5iEBspzddvhjRfP9Fegn3l5F6PE6mpULkuxo/iONbpC78Wvr6JEqQipijBnF8JWV0dXXR0NDAsGHDyM3NZe3atbz00kvU1dXR1tZrf7vmmmsoKyvjvffe45NPPsHtduPxeHC73RQWJtbBFG099rhp7MYYF1Icd6u19sR4HTfr2Y0kxOwJef9dRItuIjiOvMv73nmI8IkGQ+QKkl30LbXbgtirb0e6QaULS5BVy9MEr0BKkEqR4wd5fAMsQ4qdbUG+mzzv+w+hQj3NsdZirSUnJ4fa2lpWrVrlt4Hv3r0bay1f/OIXGT16NMYY8vLymD17Nh6Pxy+8S0ulhdX06dOZPn16iq/ImXiaYq5CREl/aS1KLNxN3ybKINpiHc4mB5CCXh8QfWx4pFVhOJtyC9KJKp0Eu0Fq2PwKqVS5E4kz/ybxy2QdhUys/0YaQo9AVlSpjAZS+tDW1saGDRv8jktf2ODJJ5/MzJkzaW5uZtWqVbjdbkaNGsXcuXPxeDwMGybNB9JZcPdHXAS7MWY0kof3Q6QitRIvXiV86n4kK1ouzm0BQ/ff7v39S0h8tpMJI5zNmijOkQpcyF2YyDvRIIXaDk7gOZSIWGvZu3dvUORJfX09c+bMYf78+bS0tPDAAw8AUFFRgcfjYd68eVRWVgIwduxYbrjhBozJvJTheGns/4u47MrCbWCMuQRxucUUaJ/1jEaW+k5aey6iTYerDT4jwnGfQTTtj73/H4PYzN+hV7jneV+BSUuh5z804ugVZdB0dHQEhQy63W7mzp1LV1cXv/zlL/3b5efn4/F48PkNKysr+dKXvoTb7SYvr6/XfDBRJ+nOoAW7MeZEYKe1dpUx5tBw21lrb0NiN1i4cGHyPbZDlS8iyTVOgt0Xhhiq0Rcj2mo4u/kLwCkh+32AhPJ9A4m+qUdK634NuAMxbYSepwAxcSjKIOnp6WHPnj3U19djrWXKlCkA3HrrrWzfvt2/nTGG+fPnM3fuXPLy8jj11FMpLy/H4/FQWloapH3n5OQwYsSIpF9LOhAPjX0pcJIx5njEylhujPmztfbcOBxbmYpUQLwBcWB209sT9CFEeJ+L1C5xIRPAV4HvRjjm13E277QioY0rQt7/AbIC+DW9GrwbSdnX+ihKDLS1tdHY2Mjw4cMBePbZZ1m3bh0NDQ10dUnI1YgRI/yCfebMmcyaNcsfeeKLWPExb9685F/EECCu4Y5ejf3r/UXFaLjjAHgbqUeyEenAdBniFASxf69BomHmIhEg4ehGhHO4P3sOEhvvFO/d6B1HGWK2yTzTpBIHfPVOAN577z3Wr1/vt383NTVRXFzMtddeC8DTTz9NfX19UMigx+OhpCTSTZy9JD3cUUkwc4Fbw3xmiD6b0iCafbj2bTmEr9JfhqzPFMVLQ0MDmzZtCnJg7t69m+uuu468vDw+/vhj1q5d60+Z9wlvay3GGI4++uhUX0JGElfBbq39J2KhVdKVHKSr0eP01doN0igimmbTSlYQmjLvc2CedtppVFVVsW7dOpYtW4bL5WLYsGF4PB6mT59Od3c3eXl5HHnkkSq8U4Bq7NnITUgMdiO9ETU5iEZ+U6oGpaQKay3Nzc1BIYPz5s2jpqaG999/n/vvv9+/bWlpKW63m44OyVibM2cOU6dOpbKy0jHKJJMjT9IZFezZyBSkTMH3kIbZIN2Q/pvYasykkkYkEWkrUr/l08S/mUaG4UuZ94UM1tTUsHPnTu68886glPnc3Fz22WcfampqGDNmDKeeemrYlPmSkhK1h6chKtizlYnAn1J4/kakPrqb2NP8n0L6pBokuqfE+3oeGJqJgnHDWktTUxM9PT1UVFTQ0dHB/fffT319vT9lHuDggw+mpqaG8vJy5syZE+S8rKio8GvaZWVlGnkyBFHBrkTHU8C3gNWIED0P0firYjxOFxIbfzu9iVczkEbQ0QjlbcBpBIdrNiIRQUcCm8gKH0Fg5MmLL77Ijh07/Cnz7e3tzJ8/n1NOOYW8vDza29uDUuZ9QhygsLCQE044IZWXoiQAFexK/9yDlBzwCdM9SI2YJ4A3iZBv7MClwF+QmHlf8bI3kYJm7wPD+9n/DpwzbS1S3uAZxDmcQXz88cds3749yIHpdrs577zzAFi9ejWdnZ243W7mz5/vr30CktBz0UUXpXL4SgpQwa5EphPpYRqa0NSBaM93AFdHeaztiGYeWp7AIkL+VuDb/RzjHSJ3MFrPkBPs7e3tfm3bF3XS3d3NWWedBcC//vUvNmzY4E+ZHzduHKNHj/bv/+Uvf1mdlEoQKtiVyLxG5OqOf0IabjyHJD8dQnit+1WkDIFT3Zk2ZAXQn2CfimTehpYRxvv+OIf30wBfyrxP625oaOC4447DGMOyZct48803AdGwq6qqqK6u9sd6n3DCCeTl5fVJmfehQj2z8NXGCYxSqqur81edjAYV7EpkQptJhLIdKVvry2btRIqL/Yy+man9BU9URDGei4FfhPmsADguimMkkLa2Nv/DOH36dAoKCnjttdd45pln/CnzILbtQw45hJKSEvbbbz+mTp2K2+3ukzIPxPRAK0MDa23QRB/4c+/e3pKpxhh/Zcqampqoj6+CXYnMIsIL9zykWFgnwc0+fgeMBK4J2f4QwpchKEEKnvXHWOBOZJVgEU2/BLmTl5GUkMeenh527dpFSUkJhYWFbNq0ieXLl1NXV0dzc2/d44suuogxY8ZQU1PDokWLghyXxcXFfu070KyiZBbt7e2Owru+vj5ooi8oKMDj8TB+/Pig+2TYsGGOlSn7QwW7EpkiJPrlOwTb2V2IicZJ6LcAP0KKkQVaCfIR083nkInAl/lajJQqODXKMZ2FlAv+E1J2eB6iqa8ENns/q4zyWBHwRZ7s3buX119/3W//3rVrF93d3ZxxxhnMmjULl8uFtZapU6cGPZRVVRIyNH78eMaPHz/4ASlpSU9PD7t37+4jvOvq6mhq6u2s7jOzeTweJk6c2Kc2TjzrwqtgV/rnGiSs8dtI1yaQ0gNPRtinCak4GdqZ6WSkbPCNiP3eDVyBdDeKJUxxBHAdMjn8D722dxD7+38h4ZlR0NXVxQcffNBHozrooINYsmQJ3d3dvPLKKwwbNozhw4czffp0PB6PX9MePXo0F154YQyDV4Yira2tjtp3Q0MD3d29Gk5RUREej4fJkyf3mehDzWyJQptZK9FjEWFdjGjyHsQU40Q+EhaZ6HZxtyNNGZ1q0v8OibcHmpqa+jyQ48aNY+nSpXR2dnLjjTdiraW0tNT/MM6aNYuJEycG9clUMhtfbRwn00mgmS0nJ4dhw4b1qUrpdruDzGzxRqs7KvHHIBq2j0uQvqKh4Yd5SCOPRAt1i5iJvEK9iy7qvf/qWuoo/GYhi85bBMDvfvc7/4OZm5vrrzAIkJeXx6WXXkplZaVjl3ljTEa2T8tWrLW0tLQ4mk527dpFT09vGFhJSQkej4dp06YFCfDKykpcrvTNhFPBnq2sBH6CJAeNRmLRTya2Guv/BTwNvEdvO70SJNzx5riNNAhfynxdXR1te9qYsU36/93HfaxjHTagZOWkTyaxqHsRuOD444/3O6gqKir6COps7bSTyXR1dfWpTOn72dra6+13uVy43W6qq6uZOXNmkPZdVBSuDVl6o4I9G/FlkvocmBsQQX8u4Wu+O1EMvAz8DbgbiY45EziH/kMb+6Gzs5Ndu3ZRXV0NwCuvvMI777zjT5kHKCosYkbeDOiGSUxiJCNx48aDBzdu8kvy/c7bWbNmDW5ASlrim+idTCe7du0i0NRcVlaGx+Nh1qxZQdp3YG2cTEEFe7bRSHB5AB/NiMA/H1gcw/HygbO9rxjxPXTGGD766CPeffdd/0O5Z88eAG644Qby8/Pp6emhqKjInzLvb9iw3mL+bFjUsajvuM5HuzxlCJ2dnf7KlKFC3DfRg5jV3G43I0eO7FPcrKCgIIVXkFxUsGcbjxE++qQNuIvYBHuUNDY28uGHHwY9lPX19f4u8jt27GD16tW43W7GjRvnfyB9JpOlS5eydKlD+6afAy8i5XsDzUFjgR/G/zqUxGGtpbGx0VF479mzJ0j7rqiowO12M2/evD6VKdUfooI9+9hD+LZ4PfSGM8ZIaMq87+dhhx3G2LFj2bJlCw899JA/ltftdjNhwgR/+NfChQtZtGhR7A9lFfAWcB9wL6Khn4PEuifaeasMCF/KfOi9Ul9f72/gAfhr44wZM4YFCxYEJe3k5+dHOIOigj1b6EHS/H9EcJZoICXAUZEPE5gyX1dXx6RJkxg/fjzbtm3jD3/4g3+7oqIi3G63P7tuwoQJXHbZZY4p88DgIgyKkExUDSVPG2JJma+srOyzUnO73ZSVlan2PUBUsGcLlyE29FDbuo8cRLCf25syX19fT3FxMaNHj6a1tZWbb765TyxvUVER48ePZ/jw4Zx00klhY3kLCwsdQwmVoU20KfOFhYX+VVqg8B5oyrwSGRXs2cDHSPp9SLx5Cy20005VfhXMhgcueIAdf9xBQ0ODP5Z33rx5jB49msLCQmbMmOFPiXa73VRVVfk17fz8fPbdd9/kXpeSFEJT5gMFeGDKfE5ODpWVlUlJmVcio4I9w7HWYp424IJVrGILW6jz/mullQlM4AtHfgEeh677uhie05syH9hpxxjDiSeemOKrURJJtCnzxcXFuN1upkyZ0kf7TueknWxi0ILdGFOIVP8o8B7vQWvtdwd7XCV2tm/fztatW4MeSpfLxeXFlwOwlrVsZzsePMxkJh48jGCEv2DW2WcPIGZRGVKES5mvq6ujpaXXTudLmfd4PH2KmxUXF6fwCpRoiIfG3g4cbq1tMsbkAS8aY5601r4ah2MrAXR1dfUpwL97927OP/98jDG8/vrrvPHGG/6U+REjRkiCz3SgC87mbFyhsY6lDCgGXUlfBpIyH7pKS/eUeSUygxbsVoJLfYa2PHpbLigDwBfLG/hQHnLIIRQVFfHiiy/yz3/+079teXk5Ho+H9vZ2CgsLOfjggzn44IOdY3mvBtdvXMHO00JgLilvTqEMjK6uLhoaGhwdl4Ep87m5uQwbNoyamhpmzpwZJMDVoZ2ZxMXGboxxAauAycAt1trX4nHcTCaw/dW4ceMoKytj7dq1PPzww0GxvHl5ecyfP5+ioiJmzJgRZNMMjeWtrIxQhPxHSGnb7yPO1Ergy0i9F1XM0hZNmVcGQlzL9hpjKoGHgSuttWtCPrsEqQfI2LFj99u0aVPczpuuWGvZu3cveXl5FBcXU1tbyyRRMxQAACAASURBVJNPPhmUMg9w+umnM3v2bHbs2MEbb7wR9FBqLG924JQy7/vdKWXeqVxsNqXMZyspKdtrrd1tjHke6RO/JuSz24DbQOqxx/O8qcbXdLi9vZ2XX37Z/1A2NDTQ2dnJ0Ucfzac+9Sny8vJoa2tj3LhxfR5KgJqaGo47Tu0imUpgynyo9h1NyrzH46G8vFwn+izAWkttbW3QfVJWVhb1/vGIihkOdHqFehGSu/iTwR43HbHW8sEHH/RZFs+ePZtjjjkGl8vFiy++6H8oJ06ciNvt9rdFq6ys5JJLLkntRSgJR1PmlWhw8qd5PB4WLlxIT08Pt956q9/RXV5ezqRJk6I+djw09pHAn7x29hzgfmvtY3E4bkrwpcwHPpRVVVUcffTRGGP4+9//TlNTkz9lftKkSf4Wabm5udxwww0aTZAFBKbMhwrwaFLmPR4PpaWlqn1nAZ2dnf77wxjjLyF98803U1/f24LM508DKbHx2c9+lvLyckd/Wn/EIyrmbWDBYI+TTLq7u9m9e7f/Qezu7uaggw4C4O677+aTTz4BJJa3qqqKiooK/76f//znKS0tDdv+SoV6ZhGaMh+ofWvKvOLD509rbGz0K3pPPvkk7733XpA/rbq62i/YfUXvfBN9qD9t2rRpAx5PRmeetrS0+Et+zpkzB4AnnniClStXBsXyut1uv2A/9NBDsdb2SZn3UVNTk7wLUJKCL2XeKesyNGXeV5ly0qRJQQJcU+azg46ODr/2vGbNGtauXeuf6Ds7OykoKOD666/HGENRUVGfwmY+fxrAAQcckLBxDnnB3t3dTUNDA263m5ycHN5++21WrFjRp/3VtGnTyM/PZ/To0X7bpu8LD2x/NXXq1FRchpIENGVeiYXa2lo2bNgQdK80NjbyzW9+k4KCAmpra9m2bVuflZqPQw89NGVjHxKCPbDTzvbt21m9erX/i/bF8l5xxRV4PB6stbhcLmbNmhX0UPqWw3Pnzk3lpSgJxpcy7yTANWVeCaSjo4OdO3f2uU/OPPNMPB4PH330EcuWLaOwsBCPx+Nfpfnk0aGHHsphhx2W4qtwJu0Ee2trKx9++GGfB/PMM89k4sSJ7N69mxUrVvjbX82ePdtfPQ6kGuG8efNSfBVKIvGlzDvZvjVlXgnEV4I68F7Zb7/9GDVqFB9++CH33Xcf0Gtm83g8/vtnzpw5zJw5M6w/LZ1Nb3FNUIqWBQsW2L/97W9Bgnu//fZjxowZfPLJJ9x2221Ab8q82+1m4cKF1NTU0NPTgzEmrb9UJT6EpswHPpxtbb01iH0p86G5AZoynz0ETvTV1dWMGjWK2tpabr311j5mthNOOIFZs2bR0tLC5s2bw/rT0pGUJChFy44dO7j77rsBieUN7LRTXV3NpZdeGjbER1OjMwtfyryT6WT37t2OKfO+VZqmzGcXPn+aL5Kks7OTu+++u48/benSpYwaNYqKigqWLFkS1p9WXFw8qMiTdCYlGvvMmTPtY489pinzWYQvltcpcUdT5hUf1lo6Ozv9St3y5cvZvn27f6Lv6elhzpw5fOYzn8Fay3333eef8APNbJk60ae1xl5cXMzEiRNTcWolgfhieZ1MJ4GxvCAp8x6Ph3nz5gU9lJoyn11s2LCBrVu3Bk30NTU1XHDBBQBs3LiRzs5ORowYwezZs/2+NRAb9+c+97lUDj9tSTvnqZL+OKXM+37v7Oz0b+cLKx07dmyQ8NaU+eyhqampT82Trq4uzj//fABeffVV1q9f7/enzZkzh3322ce//0UXXaQT/QBQwa440tPTw549exxNJ04p8x6Ph/HjxwcJcE2Zzw4CS1D78gJOOeUUcnJyeP7551m1ahUgZjaPx8Pw4cP9hfNOOukkCgoKwk70ev8MDBXsWU5bW5uj9t3Q0NAnZd7j8TBhwoQ+2ndurt5GmY6vNo7vHpk7dy5FRUW8+uqrLFu2zL+dMYaKigpaWlooLS1l//3399eHd/KnxVKxUIkefSKzAKeUed/v4VLmJ0+eHFSwKlwsr5JZtLe3U19fT2VlJcXFxf4knVAz24gRIxg3bhyjR4/m8MMPD5roA2vjjBgxIhWXkfWoYM8gnPpc1tfXO6bMezwepkyZEqR9D5VYXmVw9PT00N3dTV5eHnv27OHf//63/15pbGwE4LTTTmPu3LkUFhZSVlbWp7hZaWkpAKNHj/YXvVLSBxXsQwynlHnf74Ep8y6Xi2HDhuF2u5k2bVrQQ6kp8+mGBf4DNAJzkA7j8aGrq4s1a9b0megPPfRQDjzwQAD+85//9ClsNmbMGEA07nPOOSdu41GSgwr2NCSWlPnS0lLcbndQP9RMj+XNLF4CzgVqkcexE7gK+AHS3qB/nFZp48aN4/DDD8cYw6OPPgrgn+inTJniF9zl5eVce+21ambLMFSwp5BYU+a1y3ym8T5wDNAc8v6vAQP80P9O6ERfVFTk17j/+Mc/+k0oJSUluN1uf4aly+XiyiuvpLy83NHMpgI9M1HBnmBiSZn3dUuZM2dOkOlEU+YzlR8DvRN4dzc0NEBdXTNtbTexYMENQAn33HMPGzZs8G/ncrmYPHmy//8nn3yyv9FHYMq8j6qqqkRehJKGqGCPE7GmzI8aNYq5c+cGFeDPnJT5DuBv3lcucA5wPKCOWWstzc3NNDQ0MHbs80A3L74Ib7wBu3aBb54vKLDMn78GYw5gzpw5QVFKoWa2QCGvKKCCPSY0ZT4adgOfAjYDvlDKx4H5wLNApkxekenq6iInJ4ecnBw2btzI6tWr/feLz8x2/fUlFBZCQQGMHAmzZ4PHIy+3OwdjygH8fTAVJVpUsDvgi+V10r6dUuad2l9lb5/Lq4ANiNbuowlYBfwI+O8UjCmx7N69m/Xr1/eZ6L/85S9TXV1NQ0MDH374oT9l3nef5OZWATew//4t7L9/6FFHAdOTfzFKRpCS6o4LFy60K1euTPp5AwlNmQ9tf+UjMGU+tOKgpsyH0g5UEmg3DmY4sDN5w4kTXV1d/nsk8D45+uijmTBhAuvWrePee+/1l6D23R8LFiygoqLCnz7flzbgEGAN4AtVzQUKgWeAxcm5QGXIkNbVHZNJYMp8aJ9Lp5T5iRMnasr8gGlEYrLDsStZA4mZ0JT5+vp6pkyZwpQpU6irq+PWW28FelPmPR6PX1iPHz+er33ta2FLUIef/AuBF4A7gNuAvcBRwDcAtZsrA2fQEssYMwa4G6hBnurbrLW/GuxxYyHWlHmPx8PkyZODTCfaZT4eVAHFiObuxKQkjsUZn5mtrq7On1HZ1tbGL37xiyAzW0FBAcOGDfM3tD7jjDMcU+ZBTHIDr1ZZAFzmfSlKfIiHKtoFXGOtfcMYUwasMsY8Y619Nw7HDkJT5tMdF/B1JP66JeSzYuC7SRmFb6Lv6uqiuroagHvvvZdt27YFmdlmz57NhAkTKCwsZPHixVRWVvrvlcCJPi8vj1mzZiVl7IoSDwYt2K2124Bt3t8bjTFrEc/PgAS7pswPda4HNgF/Qm4vg8z93wDOjuuZOjs7/drzq6++yqZNm6ir2+qd6HMZO3YsF154IQBFRUVBKfNut5thw4b5j3XEEUfEcOYGoBvwINenKOlFXI3HxpjxwALgtf62bWpqctS+NWV+qJMD/B74LyS80QUchzhOB87mzZvZvHlz0ESfl5fH1VdfDcCmTc9RW/sH3O4tTJ1q8XgmUV3dm7l56qmnDur8wiuIyeRdRKCPA34FHBuHYytK/IhbVIwxphT4F/BDa+1DDp9fAlwCUFlZud9VV13l/yywy3xo9ImmzGcHbW1t7Ny5s09m7qWXXkpOTg6PPfYYK1eu9KfM++6VJUuWYMxbWLsUY1pDjloMPIFEngyWN4CD6GtiKgIeAY6OwzkUJTLRRsXERbAbY/KAx4CnrLU39bf9lClT7D333KMp81lGV1dXHzPbUUcdRUlJCS+88ALLly8Hes1sHo/Hny7f1NSEy+VyTJkXofpMmLPOB96Mw+iPQlYgTsxCQhYVJbEkLdzRiIfpDmBtNEIdJCtz8WKN0c1EfCnzPuE9adIkKisreffdd3nggQeCauOUlZWxePFiSkpKmDVrFiNHjsTtdjua2Xz1v515PsJna5AEqcGWwv1nhM/WAXuAikGeQ1HiQzxs7EuBzwPvGGPe8r53g7X2iTgcW0lTOjs7aWhooKioiPLycmpra3nkkUeoq6sLqo1z2mmnUVlZSU1NDQcddFCQuS2wNo4v7HRg9LfaG2wkVDfiAA5HD1mQEqIMIeIRFfMiGhqQkVhr6erqIi8vj/b2dpYvXx6UMm+t5cgjj+TAAw+ksLCQgoIC5s2b16cyJYjgPvzwwxM00hOAvyMCNpQDEDv4YHgFeVTCCfdSoGSQ51CU+KFqhuJnzZo1QVEn9fX1zJ8/n+OPP57c3FxWr15NVVUVY8aMYf78+Xg8Hn9btLKyMs4777wUjfwnwHIk89Un3A3iPP11HI6/F8kSbQrzufb1VNILFexZxJ49e/qUVqiqquLTn/40AE8//TSNjY3+lPmxY8cyceJEQBya1113XZpm504BVgA3ID78HsTZ+SOk1dxgWUh4bT0XODkO51CU+KGCPcNob28PEtzd3d0cddRRADz44INs3rwZkJR5j8cTFGVywQUXUFpaGrYyZXoKdR9TgAei3PZN4JdIn9HJwNXAkgjbVyPJVX8BnEIqvxLTSBUl0ahgH4L4Uubr6+vZvXs3+3trvj766KO88cYb/u2MMdTU1PgFuy+7MjRl3kd2dNq5E7gCqWfTgwj5x5Bywt+IsN/vgXwko7YA0eBHAfd5fypK+qCCPY1pbW2lvr6ekSNH4nK5eOutt3jppZf61MaZM2cOhYWFTJkyxV9mwVcbJ7Ay5fjx41NwFelEHXA5wWWFLZJ09B3gdGBCmH3zgFsR884aYBgwk/jFDfQgNeubgf2AsjgdV8lGVLCnGJ+AdrlcfPLJJ6xcudJvSmlulibHl112GdXV1eTl5TFs2DCmTp3q2NB6xowZKbuOocH9hA+N7AHuQQR8JKqQDNR48hTwBWSCyUGalFyFFFPTxD0ldlSwJ5Hm5mbef//9oOJmu3bt4uyzz2bKlCn+zz0eD9OmTesTMjhr1iytMjgoGgjfBKSD1DQBeRM4jb6lCn6NROIkpyKmklmoYI8jPT09fSpS1tfXs//++zN37lyampp49NFHcblcuN1uqqurmTlzJpWVlYA0Jf7GNyLZeZXBsT/i7HQKWyxFerUmm+/T1yELIuh/DlyHCHhFiR4V7DESmDLvE94jR45k7ty5tLe3c8stt/i3LSsr8/a2lK/Z4/Hwla98JWxlyvSOOskEjgL2ATYSHL6Yg9i0P5OCMb1M+K5TBlhPfEI2hwLdyKRbhpqgBocK9jD4Uubr6urIzc1l2rRpWGu56aabgpo15ObmsmjRIubOnUtRURGnn36634EZmDIPvcWtlFSRg9R8ORV4B3GIdgETkczVgrB7Jo4yYEeYzzrJjvozrUgd/zsQk5gvhPQ7qIgaGFn9rVlraWxspLm5mZEjRwLwj3/8gw0bNvhT5gHGjBnDtGnTMMawaNEi8vPzg+zfgZr27NmzU3ItSrSMBF4F1iLa8HhgbgrHcykiwJzMMdOAsckdTtLpQapzrqTX/7EH+AXyN4o2N0EJJCsEe2CnndWrV7N+/Xq//bujo4OKigq++tWvAtK/MjBl3tfn0sdBB8U7IkJJDTO8r1RzOfBXpHmHz4Gaj9jV707VoJLIcuAt+jq1W4DHkSQyDRiIlYwT7Dt27OCjjz4Kyr5saWnhhhtuICcnh61bt7JlyxY8Hg/jxo3zhwz6OOaYY1I4eiX7KAL+jSQ+/QERaMcBXwVGp3BcyeJRwtfg6UYapahgj5UhJ9g7Ojqora3tE31y7rnnUlZWxrp163juuecoLCzE7XYzYcIE3G433d3d5OTkcNxxx3H88cen+jJSSA/wHNIRyI04DLMh4zQZWCSL9VagFjgMuJL+BXQhYpK5NMpztHn3yQRnew5yHU4OZMPgSy5nJ2kp2ANT5n2C+4ADDmD48OGsXbuWhx9+GICcnBwqKyvxeDx0dnYCsN9++7FgwQLHlHnI9siTTxBh8wli0y1EnFR3AmelcFyZQA9ST+ZxJHsUYDXwO6Tz0qJBHr8dKXvwW+/xK4CvIU7HoSz8Tgdup/c7C8QAJyV3OBlCSgV7a2urX3Dvs88+VFdXs2XLFu66666glPmioiKmTZvG8OHDmTBhAmeddZa/y7zLFXxTFxcXJ/syhhCfJjjUz/cwXYg4EGemYlAZwiMEC3WQCI8O4AzgIwauYfcgRcrWIJEyIMlWNyI26HsHeNx0YCnSk/Z5gh3IxcA5SJE2JVZSItjr6ur46U9/SktLb7bdEUccQXV1NVVVVSxevDgoZT5QWJeXl1NeXp6KYQ9x3gHew7n8bCfwK6TQlTIwfJq0E7VIHZh+W1U6sAE4GFllhdKCTChrSQ9H8EAwyDX8DLkH65Bcg+uAy1I4rqFNSgS7MYbp06cHCW9f9mVJSYm/GqEST94n/J+7C3g7iWPJRCKVI2hFQixjFey7gcWIsAtHN2LXH6qCHSSf4AbvK15sRxyzbcCRZNtqNCWC3e12c9JJajtLLuMQIeBEDrrkHSxLkVVROK4GNiMlBPL7OZYFvgf8GLGt98dATDz1iG37GaRS5cWIADSI6eevSL2aHUgphuuBBd59GxFloHKA5040/4NU4cxBrsUgWcf3k5oktOSjebtZw0Jkiev0IBYi1QSVgXNOP593A79Bsl7740bENBGNUHchvpNYeBdpTPI9JELqAe+4zkUE4VmIoH8V+BB4EDgQuAmZwNxIO8BpiF8hnXgIaZXYhpiq2pAV0zPA11M4ruSigj1rMMiS3YMUvAJZAhciWuRA7L9KL9PpfwHcipQ0WBVhm3ZEMIVWe3QiB4nxjrVZ9xmImSfQWdmMlFX4DhI7Hugv6PGO5xqktk0n4hRe7z3WozGeP5H8AOfvrhWJ/nLK8M08VLBnFVOBTYjmeAnwTSTS4msJPu9O5IE7AtEGlxO+8NVQxQPMi2K7NuDJCJ9/EMM5exDzzzRkco6GtUiEjtP334zE4IdzAjvRiqz20uXvGen7M4jtPfNJyzh2JZEUAed7X8ngLSScrYPetPHHgM8iNt50tNEOlN8DhyKCMZyg6yGyo7WM3pDGaPCZa36M2MKP7Wf7HchKLRzRrBRC2Q5sQ0x9qaYG8QE40YWYkTKfuGjsxpg7jTE7jTFr4nE8JVOwSGbrXoJrgTQjzrlY7LPvIP1F/4kIx3RkP2AF4qiLxG8QW/WbDp+NRVZWTkR6XFsQ4d4fMwlvu3ch2n+sph1L+iRJXY3EwIeSh/gisiNUOl6mmD/Sv6qgZB1vEl47bQZujuIYtUhyzmIk5f4kJEV/RTwGmACmI63ujutnu5eRFnsrHT77E6K5B2rWxcAkIvdCXR/F+KqRjk1OzTsKkFjyIvqupFwO7/mYgmjK6cCXkO++hN7xliKlmbMnTyMugt1a+wKSCqcoAewgsibnlHQTiEUe0lWIRtrofW1DQvMixXcni13IBBZaUz2arkfNSEmHUOYjK5RLkTDUuYg2/hSRzTThGnGHcjtSKrcQEXpliCZ7H5IM9RIwG5lMKhCBfwpSUyj071mM2OXTBRcS5bMM+f7OA+5Cvs9IvRDagX94tx36OR1Js7EbYy5BPHaMHZvpNaYVYQ7hl/25iBYeiZVItqyTMOtEGjNcN+DRDY5m5HZ+CIlL70A08HsQ7fXpKI+zApm0Qs0H4xCTTSiHIM7n0O+kBIi2rWIREgGzAXgNEepH0RvjPR0RbuuQFdN0xDa9GfgWcs1d3rHciJig0gmDhGceGOX2TwNnIia+HkSh2BcR9JWJGGDCMb5mEoM+kDHjgcestf12mli4cKFdudJpCapkHqci2lNove1ipMLktAj7/gGxmYZz6H2a1IXaHYbEeQdeVy4wBpmMKgjfODuQXCT0sCTK89YhE8gWpNxtLmKyuRz4KYN3Rm/zviaQHVU/NyIKSOg9lo/4QZYnfUSRMMasstb2G5us4Y5KgrkHiRQponfJXwH8jchCHcQeHM6U4wJGxWeIMbMKeJ2+grsL0XAfQrTZaJhD9EIdJKxyDVL466uIBv0mktA0GKG+FZmsJnp/7oOYMQYSJTOU+BXOK8IOZOKOxm+Rfmi4o5JgSpG47XWI2WEYEs/eX1o9iD8+nO6Rj9eylwJewLmYGogW/RSS0v5vIgvGIuB/B3B+X7ZprBmn4WhDHNSfIBmyvgnrAcR3cA/wF0STX4DY26P5+w0FXiO83yIPsc1PSd5w4kRcBLsx5j5ELfMYY7YA37XW3hGPYyuZwlTCh/GFo4DedHdftmMO4vT7Or21S/pjD5I634Noo4ONZS5BHp0Oh89yEPv7NYjwdyE221xEo+70bjMX+CXirLSIgPkjYpbZF5kIn0NMVhcjk5jPDm+9n+9GMk99mcQD5X7ECRxaS6gNCS8d4x1zG7LqugqZ3IaewOvLGGT15WSStkjphKFH3GzssaA2diU2NiGhkSuQOO/LgQOi3PfHSE0UX+hgB2LCuJGBmy52Is5NJxu6zwEZ6DTOQ8xK7yCTUg+95heLCO77vMdzitEvQibFl5HM0XMQR2YuMlFcgawQBhpLfjaikUeLQUw26xn6CWb/Ao7HeWU1Brn30uca1cauZBDjEBvyP5EGz9EK9fuQVPs2ekMl25Fok1sGMR4XommHPj7F3s9CI4E6kWqKv0GEdKBN/UFEqLYQPvGqFdHQv4+sON73br/X+9ktwLUDuxRAfB6xCC+LmGheHsQ504VDkLrvxfT+PYsQX9AjpJNQjwUV7EoG812cNbFmpHbNQFarm5Da5y8QLIgLkdK24QRBGzIphfILoqvN0oq02XNaJbQgjT72RHEcJ84j9mxTkHBJHyu9x1mCrECGUhL6z5AOTucjeRPfRq5t3xSOaXCo81TJYCIVhKpHHJ2RMjmd+BKSixdqj7ZI6FwkXcnJSbc1hnM3OZzXRwESHXNoDMfzsQQp/fAQsRUAm+j9+b9IdI7PlLQC+D/gNqQU8FBgEYPvS5s+qMauZChvEVkjdxG7ltqIxDU7CVdf5mI4O3ceEk0SSr9pH15yEJNJOLqJbpLqAB5GhPHjiIPXIGUMbkOSjSqJLBoMkoS1FKnX/k2CTUndyArjYjQhPTWoYFcyEIvUCQ+HC6kuGeuCtYnIj0wz4qwNzSI1hM8MvcFheyeKkGiUcDHvFfRvOliBxKd/AcnYPRtxRr/rHePnEJPKeCIXWhuOhLAaJBQy3LY5iA9BSTYq2JUMZA0Scx2OPCTUMFaqiRxauACpT/JbRIAWIvHehyDJLqMd9jkIsbP76rYUIBNODuLAK0Gcx48jNvz5BE8ELu82fyayo68RKRtQ7/29w/tzO+KQDTQTbYxwnEJk1eILddyOc9gniGkmHer5ZB8q2JUMpI7I2vgYIheECocL6TDkpGEX09vs4gtIyv+HSCbq80TOsv0Skhx0MyLkVyJC92l629MdgkwSy4GfI3Hw4xAtewX929bvwzmpyiJmk8DSDP1l9I4J+H0J4Se7YoayA3Ioo85TJQOZTfg6LbmIbXigXIEk8/yE3sfHICGHRwRsZ4gtuaUKmRACcQrrzAe+7H3FwmrCO0abkPh4H19Hqk6Gbp9P35rmZ3i3D20u4kKu/+gYx6nEA9XYlQxkOGJDd3KO5jO4mG+DaO07kHo3/0C08v6aWaeaCYQvJVxMsJnoAkRgB8Z2lyGrjttC9i0EXkRMMyWI0C9GVhT/REVMatDMUyVDaUc04EcQu7VFbOv3AsekcFypYgci3J2aOZcgtvJQk8obSPJUM5KdeSzho34sUhxtEyLk5w5+yEofos08VVOMkqEUIEJpC2KzrkAcldl6y9cgCVLnIVEs7Yi2nYOEPzrZyfclehu5ARZ6X0qqyda7XBkUFtHw8pAysunMaJyjUbKR05HmJncgJQrmIGaXdGlrp8QLFexKjDyMFNHagWh+s5FU98zJ2stsRiOlFhRnapHQ0g7EGT4ptcMZICrYlRh4GEkRD6y/8gZwOPAKogFmEz1IzfWPkN6knyK6olGdwMeIQ7I6UYNTYuaHSA0hX6nlHqTx958YaqJSXdZKlFhEU3cqqtWCRIpkE2uRWiknIiGQxyKldTdE2MciMejDgXlI1udigkMN04kOpJZNpndRAolwuhEJk21GrrkNcb5/O4XjGhgq2JUo2Y6YX5ywwLNJHEuqsEjzi68iTsKPkRhw32sjkkgUriPP9xEzyB5EeLQjTR6WEFsxsETThdR/8SARLsOQldruVA4qwXyf8ErLzYTPrk1PVLArUZJH5PohQ2upGjtNiHZ9ClJAq4W+RcZ6kBrpjzns34wkNYUKD1/m50Ba5CWKzwO/RrJfW5EJ6AEksSvcpDXUidTbtIfwSk16ooJdiRIP4SsR5gJnJnEs4dhLbGVnY+EKJHuzqZ/tGr3bhfIGvV2cQulAEp3SgXWI+SF0AupAVih/T/qIkkOk6K5uJDN46KCCXYmBW5FklkAHYS5y06fSxv4MMum4kZKzByJle+NFM/BX+nZGcqIY5/BBX0u8cITLCk02zxHeAdyEONAzkatwrgGUD5zM4PvKJhcV7EoM7I8UpToFudErgQsRIdpf4ahE8TTy4P0HsQ13AS8hyUjvxukctUTfT9Qi5QxC2Zfw9d+LgYsGMK5EkEdksZAuE1C8uRJpdxhYFrkUKWH8u1QMaFCoYFdiZDbSaacRKYb1e6REbar4Cs5p8s3Af/Wz7x6kmuJiZCK4nd7iYRuALyKRK0fRv7aehwjuP+JcOdIF3IkI8UCNuBCJrkkXwX4i4bs0lZL+NXEGSh4Sv/4Ikp37WeAPSAPygVQCTS2Z7vFSySx3LwAABgdJREFUMpo6pKStExZ4KsK+nyArkF30TgxvIk7DW5DaKG30lrp1IQI51GGaixTHOgq4HIlnD8cJSAnf/0bi/kuRyeMaomu2kQxGIEXSfk6wnb0YmfwOS8WgkkQOcKT3NbSJi2A3xhwL/Aq5+2+31v44HsdVlMj0Zx6JtCC9HIl0CNROmxHn4Wn0dZJ2e4+X6/3d5X1djNz60XazXwQ8EeW2qeJ7wEwkBHADEnf/FeBqor9OJZUMWrAbY1yIinMUUnFphTHmUWttvAycihKGKmAWommHkoNzj1EQTfQJwvcuDWd26UEyRS9DnGqn0dtJKNP4LM6+AmUoEA+NfRHwgbV2I4Ax5i+IN0sFu5IEbkGWzoFmA1/j5+877iGa+UA1z26GYiaikl3Ew3k6Ctgc8P8tOIRIGGMuMcasNMasrK2tjcNpFQUka/PfyIIxD3FGnoHUBh8fZh83wV2AQgn3WOQgmaWKkt4kLSrGWnubtXahtXbh8OHDk3VaJSvYFwl77EAcoX9BmkqEIwfRusP1Lr0gzGeFZF9NHGUoEg9TzFaCu9uOJr0KXyiKA1cgUTU/RezlIDb0m5BIlalIpT+DmF+qgbvIvgqWylBk0K3xjDG5SCjBEYhAXwF8zlr7n3D7aGs8JX3YgyQ05SLhfIFJRG2Iq6gImI5GhCipJmmt8ay1XcaYK5CgYRdwZyShrijpRQUSs+5EIdG3hlOU9CEucezW2idI/+BcRVGUrEBLCiiKomQYKtgVRVEyDBXsiqIoGYYKdkVRlAxDBbuiKEqGoYJdURQlw1DBriiKkmGoYFcURckwVLAriqJkGCrYFUVRMgwV7IqiKBmGCnZFUZQMQwW7oihKhqGCXVEUJcNQwa4oipJhqGBXFEXJMFSwK4qiZBgq2BVFUTIMFeyKoigZhgp2RVGUDEMFu6IoSoahgl1RFCXDGJRgN8acYYz5jzGmxxizMF6DUhRFUQbOYDX2NcBpwAtxGIuiKIoSB3IHs7O1di2AMSY+o1EURVEGzaAEeywYYy4BLvH+t90YsyZZ505zPEBdqgeRJuh30Yt+F73od9HLtGg26lewG2OeBUY4fPQta+3fox2NtfY24DbvMVdaa9Umj34Xgeh30Yt+F73od9GLMWZlNNv1K9ittUcOfjiKoihKstBwR0VRlAxjsOGOpxpjtgBLgMeNMU9FuettgzlvhqHfRS/6XfSi30Uv+l30EtV3Yay1iR6IoiiKkkTUFKMoipJhqGBXFEXJMFIm2LO9HIEx5lhjzPvGmA+MMdenejypxBhzpzFmZ7bnNhhjxhhjnjfGvOt9Nq5K9ZhShTGm0BjzujFmtfe7+F6qx5RqjDEuY8ybxpjH+ts2lRp71pYjMMa4gFuA44CZwNnGmJmpHVVK+SNwbKoHkQZ0AddYa2cCi4HLs/i+aAcOt9bOA+YDxxpjFqd4TKnmKmBtNBumTLBba9daa99P1flTzCLgA2vtRmttB/AX4OQUjyllWGtfABpSPY5UY63dZq19w/t7I/IQj0rtqFKDFZq8/83zvrI20sMYMxo4Abg9mu3Vxp4aRgGbA/6/hSx9gBVnjDHjgQXAa6kdSerwmh7eAnYCz1hrs/a7AP4XuBboiWbjhAp2Y8yzxpg1Dq+s1U4VpT+MMaXA34CrrbV7Uz2eVGGt7bbWzgdGA4uMMbNTPaZUYIw5EdhprV0V7T4JLQKm5QjCshUYE/D/0d73lCzHGJOHCPX/s9Y+lOrxpAPW2t3GmOcRP0w2OtiXAicZY44HCoFyY8yfrbXnhttBTTGpYQUwxRgzwRiTD5wFPJriMSkpxkj96zuAtdbam1I9nlRijBlujKn0/l4EHAW8l9pRpQZr7TettaOtteMRWbE8klCH1IY7DrQcwZDHWtsFXAE8hTjI7rfW/ie1o0odxpj7gFeAacaYLcaYi1I9phSxFPg8cLgx5i3v6/hUDypFjASeN8a8jShCz1hr+w3zUwQtKaAoipJhqClGURQlw1DBriiKkmGoYFcURckwVLAriqJkGCrYFUVRMgwV7IqiKBmGCnZFUZQM4/8BWO2dU4k+WjwAAAAASUVORK5CYII=\n",
                "text/plain": "<Figure size 432x288 with 1 Axes>"
              }
            ],
            "_view_module": "@jupyter-widgets/output",
            "_model_module_version": "1.0.0",
            "_view_count": null,
            "_view_module_version": "1.0.0",
            "layout": "IPY_MODEL_d68549373538404d9e343b3e05fdf316",
            "_model_module": "@jupyter-widgets/output"
          }
        },
        "a6f3734f4ac748b6999f2844ac8d1472": {
          "model_module": "@jupyter-widgets/controls",
          "model_name": "SliderStyleModel",
          "state": {
            "_view_name": "StyleView",
            "handle_color": null,
            "_model_name": "SliderStyleModel",
            "description_width": "",
            "_view_module": "@jupyter-widgets/base",
            "_model_module_version": "1.5.0",
            "_view_count": null,
            "_view_module_version": "1.2.0",
            "_model_module": "@jupyter-widgets/controls"
          }
        },
        "bb8a42ad601e45b495648d9e30623179": {
          "model_module": "@jupyter-widgets/base",
          "model_name": "LayoutModel",
          "state": {
            "_view_name": "LayoutView",
            "grid_template_rows": null,
            "right": null,
            "justify_content": null,
            "_view_module": "@jupyter-widgets/base",
            "overflow": null,
            "_model_module_version": "1.2.0",
            "_view_count": null,
            "flex_flow": null,
            "width": null,
            "min_width": null,
            "border": null,
            "align_items": null,
            "bottom": null,
            "_model_module": "@jupyter-widgets/base",
            "top": null,
            "grid_column": null,
            "overflow_y": null,
            "overflow_x": null,
            "grid_auto_flow": null,
            "grid_area": null,
            "grid_template_columns": null,
            "flex": null,
            "_model_name": "LayoutModel",
            "justify_items": null,
            "grid_row": null,
            "max_height": null,
            "align_content": null,
            "visibility": null,
            "align_self": null,
            "height": null,
            "min_height": null,
            "padding": null,
            "grid_auto_rows": null,
            "grid_gap": null,
            "max_width": null,
            "order": null,
            "_view_module_version": "1.2.0",
            "grid_template_areas": null,
            "object_position": null,
            "object_fit": null,
            "grid_auto_columns": null,
            "margin": null,
            "display": null,
            "left": null
          }
        },
        "d68549373538404d9e343b3e05fdf316": {
          "model_module": "@jupyter-widgets/base",
          "model_name": "LayoutModel",
          "state": {
            "_view_name": "LayoutView",
            "grid_template_rows": null,
            "right": null,
            "justify_content": null,
            "_view_module": "@jupyter-widgets/base",
            "overflow": null,
            "_model_module_version": "1.2.0",
            "_view_count": null,
            "flex_flow": null,
            "width": null,
            "min_width": null,
            "border": null,
            "align_items": null,
            "bottom": null,
            "_model_module": "@jupyter-widgets/base",
            "top": null,
            "grid_column": null,
            "overflow_y": null,
            "overflow_x": null,
            "grid_auto_flow": null,
            "grid_area": null,
            "grid_template_columns": null,
            "flex": null,
            "_model_name": "LayoutModel",
            "justify_items": null,
            "grid_row": null,
            "max_height": null,
            "align_content": null,
            "visibility": null,
            "align_self": null,
            "height": null,
            "min_height": null,
            "padding": null,
            "grid_auto_rows": null,
            "grid_gap": null,
            "max_width": null,
            "order": null,
            "_view_module_version": "1.2.0",
            "grid_template_areas": null,
            "object_position": null,
            "object_fit": null,
            "grid_auto_columns": null,
            "margin": null,
            "display": null,
            "left": null
          }
        }
      }
    }
  },
  "cells": [
    {
      "cell_type": "markdown",
      "metadata": {
        "id": "view-in-github",
        "colab_type": "text"
      },
      "source": [
        "<a href=\"https://colab.research.google.com/github/iniyan1984/HackDay/blob/main/distribute_hack_the_olives.ipynb\" target=\"_parent\"><img src=\"https://colab.research.google.com/assets/colab-badge.svg\" alt=\"Open In Colab\"/></a>"
      ]
    },
    {
      "cell_type": "markdown",
      "metadata": {
        "id": "03Z__BI7y3lF"
      },
      "source": [
        "# SVM and Ensembles"
      ]
    },
    {
      "cell_type": "code",
      "metadata": {
        "id": "kSY1GTSLy4lp",
        "outputId": "2a29aa87-fd51-42d5-8b1c-cee86a9c6736",
        "colab": {
          "base_uri": "https://localhost:8080/"
        }
      },
      "source": [
        "!git init; git pull https://github.com/notsonaivebayes/HackDay.git"
      ],
      "execution_count": 1,
      "outputs": [
        {
          "output_type": "stream",
          "text": [
            "Initialized empty Git repository in /content/.git/\n",
            "remote: Enumerating objects: 18, done.\u001b[K\n",
            "remote: Counting objects: 100% (18/18), done.\u001b[K\n",
            "remote: Compressing objects: 100% (13/13), done.\u001b[K\n",
            "remote: Total 18 (delta 2), reused 18 (delta 2), pack-reused 0\u001b[K\n",
            "Unpacking objects: 100% (18/18), done.\n",
            "From https://github.com/notsonaivebayes/HackDay\n",
            " * branch            HEAD       -> FETCH_HEAD\n"
          ],
          "name": "stdout"
        }
      ]
    },
    {
      "cell_type": "code",
      "metadata": {
        "jupyter": {
          "outputs_hidden": false
        },
        "id": "BvEGbV5by3lG"
      },
      "source": [
        "%matplotlib inline\n",
        "import numpy as np\n",
        "import matplotlib.pyplot as plt\n",
        "import pandas as pd"
      ],
      "execution_count": 2,
      "outputs": []
    },
    {
      "cell_type": "code",
      "metadata": {
        "jupyter": {
          "outputs_hidden": false
        },
        "id": "JfHfyhvxy3lH"
      },
      "source": [
        "from IPython.core.display import Image"
      ],
      "execution_count": 3,
      "outputs": []
    },
    {
      "cell_type": "markdown",
      "metadata": {
        "id": "YHgUSLdcy3lH"
      },
      "source": [
        "## Italian Olives"
      ]
    },
    {
      "cell_type": "markdown",
      "metadata": {
        "id": "KmqdAyecy3lH"
      },
      "source": [
        "![](https://github.com/iniyan1984/HackDay/blob/main/images/Italy.png?raw=1)"
      ]
    },
    {
      "cell_type": "markdown",
      "metadata": {
        "id": "wUD2Iozny3lI"
      },
      "source": [
        "I found this data set in the RGGobi book (http://www.ggobi.org/book/), from which the above diagram is taken. It has \"the percentage composition of fatty acids\n",
        "found in the lipid fraction of Italian olive oils', with oils from 3 regions of Italy: the North, the South, and Sardinia. The regions themselves are subdivided into areas as shown in the map above. The source for this data is:\n",
        "\n",
        ">Forina, M., Armanino, C., Lanteri, S. & Tiscornia, E. (1983), Classification of Olive Oils from their Fatty Acid Composition, in Martens, H. and\n",
        "Russwurm Jr., H., eds, Food Research and Data Analysis, Applied Science\n",
        "Publishers, London, pp. 189–214."
      ]
    },
    {
      "cell_type": "code",
      "metadata": {
        "jupyter": {
          "outputs_hidden": false
        },
        "id": "OiKM2qpoy3lI",
        "outputId": "e983c059-7aae-4677-e2ad-dac8f24f8f67",
        "colab": {
          "base_uri": "https://localhost:8080/",
          "height": 204
        }
      },
      "source": [
        "df=pd.read_csv(\"data/olives-cleaned.csv\")\n",
        "df.head(5)"
      ],
      "execution_count": 4,
      "outputs": [
        {
          "output_type": "execute_result",
          "data": {
            "text/html": [
              "<div>\n",
              "<style scoped>\n",
              "    .dataframe tbody tr th:only-of-type {\n",
              "        vertical-align: middle;\n",
              "    }\n",
              "\n",
              "    .dataframe tbody tr th {\n",
              "        vertical-align: top;\n",
              "    }\n",
              "\n",
              "    .dataframe thead th {\n",
              "        text-align: right;\n",
              "    }\n",
              "</style>\n",
              "<table border=\"1\" class=\"dataframe\">\n",
              "  <thead>\n",
              "    <tr style=\"text-align: right;\">\n",
              "      <th></th>\n",
              "      <th>areastring</th>\n",
              "      <th>region</th>\n",
              "      <th>area</th>\n",
              "      <th>palmitic</th>\n",
              "      <th>palmitoleic</th>\n",
              "      <th>stearic</th>\n",
              "      <th>oleic</th>\n",
              "      <th>linoleic</th>\n",
              "      <th>linolenic</th>\n",
              "      <th>arachidic</th>\n",
              "      <th>eicosenoic</th>\n",
              "      <th>regionstring</th>\n",
              "    </tr>\n",
              "  </thead>\n",
              "  <tbody>\n",
              "    <tr>\n",
              "      <th>0</th>\n",
              "      <td>North-Apulia</td>\n",
              "      <td>1</td>\n",
              "      <td>1</td>\n",
              "      <td>10.75</td>\n",
              "      <td>0.75</td>\n",
              "      <td>2.26</td>\n",
              "      <td>78.23</td>\n",
              "      <td>6.72</td>\n",
              "      <td>0.36</td>\n",
              "      <td>0.60</td>\n",
              "      <td>0.29</td>\n",
              "      <td>South</td>\n",
              "    </tr>\n",
              "    <tr>\n",
              "      <th>1</th>\n",
              "      <td>North-Apulia</td>\n",
              "      <td>1</td>\n",
              "      <td>1</td>\n",
              "      <td>10.88</td>\n",
              "      <td>0.73</td>\n",
              "      <td>2.24</td>\n",
              "      <td>77.09</td>\n",
              "      <td>7.81</td>\n",
              "      <td>0.31</td>\n",
              "      <td>0.61</td>\n",
              "      <td>0.29</td>\n",
              "      <td>South</td>\n",
              "    </tr>\n",
              "    <tr>\n",
              "      <th>2</th>\n",
              "      <td>North-Apulia</td>\n",
              "      <td>1</td>\n",
              "      <td>1</td>\n",
              "      <td>9.11</td>\n",
              "      <td>0.54</td>\n",
              "      <td>2.46</td>\n",
              "      <td>81.13</td>\n",
              "      <td>5.49</td>\n",
              "      <td>0.31</td>\n",
              "      <td>0.63</td>\n",
              "      <td>0.29</td>\n",
              "      <td>South</td>\n",
              "    </tr>\n",
              "    <tr>\n",
              "      <th>3</th>\n",
              "      <td>North-Apulia</td>\n",
              "      <td>1</td>\n",
              "      <td>1</td>\n",
              "      <td>9.66</td>\n",
              "      <td>0.57</td>\n",
              "      <td>2.40</td>\n",
              "      <td>79.52</td>\n",
              "      <td>6.19</td>\n",
              "      <td>0.50</td>\n",
              "      <td>0.78</td>\n",
              "      <td>0.35</td>\n",
              "      <td>South</td>\n",
              "    </tr>\n",
              "    <tr>\n",
              "      <th>4</th>\n",
              "      <td>North-Apulia</td>\n",
              "      <td>1</td>\n",
              "      <td>1</td>\n",
              "      <td>10.51</td>\n",
              "      <td>0.67</td>\n",
              "      <td>2.59</td>\n",
              "      <td>77.71</td>\n",
              "      <td>6.72</td>\n",
              "      <td>0.50</td>\n",
              "      <td>0.80</td>\n",
              "      <td>0.46</td>\n",
              "      <td>South</td>\n",
              "    </tr>\n",
              "  </tbody>\n",
              "</table>\n",
              "</div>"
            ],
            "text/plain": [
              "     areastring  region  area  ...  arachidic  eicosenoic  regionstring\n",
              "0  North-Apulia       1     1  ...       0.60        0.29         South\n",
              "1  North-Apulia       1     1  ...       0.61        0.29         South\n",
              "2  North-Apulia       1     1  ...       0.63        0.29         South\n",
              "3  North-Apulia       1     1  ...       0.78        0.35         South\n",
              "4  North-Apulia       1     1  ...       0.80        0.46         South\n",
              "\n",
              "[5 rows x 12 columns]"
            ]
          },
          "metadata": {
            "tags": []
          },
          "execution_count": 4
        }
      ]
    },
    {
      "cell_type": "markdown",
      "metadata": {
        "id": "HFrgW12yy3lI"
      },
      "source": [
        "### exploring globally"
      ]
    },
    {
      "cell_type": "code",
      "metadata": {
        "jupyter": {
          "outputs_hidden": false
        },
        "id": "mlT6es3Wy3lJ",
        "outputId": "dceabb75-5cf2-45eb-9a95-5df08101708e",
        "colab": {
          "base_uri": "https://localhost:8080/",
          "height": 331
        }
      },
      "source": [
        "pd.value_counts(df.areastring, sort=False).plot(kind=\"bar\");"
      ],
      "execution_count": 5,
      "outputs": [
        {
          "output_type": "display_data",
          "data": {
            "image/png": "[encoded data removed]",
            "text/plain": [
              "<Figure size 432x288 with 1 Axes>"
            ]
          },
          "metadata": {
            "tags": [],
            "needs_background": "light"
          }
        }
      ]
    },
    {
      "cell_type": "code",
      "metadata": {
        "jupyter": {
          "outputs_hidden": false
        },
        "id": "qASPHnv7y3lJ",
        "outputId": "35dd0a29-4322-417a-8296-0274357c0ff6",
        "colab": {
          "base_uri": "https://localhost:8080/",
          "height": 265
        }
      },
      "source": [
        "pd.value_counts(df.regionstring, sort=False).plot(kind=\"barh\");"
      ],
      "execution_count": 6,
      "outputs": [
        {
          "output_type": "display_data",
          "data": {
            "image/png": "[encoded data removed]",
            "text/plain": [
              "<Figure size 432x288 with 1 Axes>"
            ]
          },
          "metadata": {
            "tags": [],
            "needs_background": "light"
          }
        }
      ]
    },
    {
      "cell_type": "code",
      "metadata": {
        "jupyter": {
          "outputs_hidden": false
        },
        "id": "n5LsAj0oy3lJ",
        "outputId": "a127f86e-6094-41d5-bba4-3306476b0dce",
        "colab": {
          "base_uri": "https://localhost:8080/",
          "height": 297
        }
      },
      "source": [
        "df.describe()"
      ],
      "execution_count": 7,
      "outputs": [
        {
          "output_type": "execute_result",
          "data": {
            "text/html": [
              "<div>\n",
              "<style scoped>\n",
              "    .dataframe tbody tr th:only-of-type {\n",
              "        vertical-align: middle;\n",
              "    }\n",
              "\n",
              "    .dataframe tbody tr th {\n",
              "        vertical-align: top;\n",
              "    }\n",
              "\n",
              "    .dataframe thead th {\n",
              "        text-align: right;\n",
              "    }\n",
              "</style>\n",
              "<table border=\"1\" class=\"dataframe\">\n",
              "  <thead>\n",
              "    <tr style=\"text-align: right;\">\n",
              "      <th></th>\n",
              "      <th>region</th>\n",
              "      <th>area</th>\n",
              "      <th>palmitic</th>\n",
              "      <th>palmitoleic</th>\n",
              "      <th>stearic</th>\n",
              "      <th>oleic</th>\n",
              "      <th>linoleic</th>\n",
              "      <th>linolenic</th>\n",
              "      <th>arachidic</th>\n",
              "      <th>eicosenoic</th>\n",
              "    </tr>\n",
              "  </thead>\n",
              "  <tbody>\n",
              "    <tr>\n",
              "      <th>count</th>\n",
              "      <td>572.000000</td>\n",
              "      <td>572.000000</td>\n",
              "      <td>572.000000</td>\n",
              "      <td>572.000000</td>\n",
              "      <td>572.000000</td>\n",
              "      <td>572.000000</td>\n",
              "      <td>572.000000</td>\n",
              "      <td>572.000000</td>\n",
              "      <td>572.000000</td>\n",
              "      <td>572.000000</td>\n",
              "    </tr>\n",
              "    <tr>\n",
              "      <th>mean</th>\n",
              "      <td>1.699301</td>\n",
              "      <td>4.599650</td>\n",
              "      <td>12.317413</td>\n",
              "      <td>1.260944</td>\n",
              "      <td>2.288654</td>\n",
              "      <td>73.117483</td>\n",
              "      <td>9.805280</td>\n",
              "      <td>0.318881</td>\n",
              "      <td>0.580979</td>\n",
              "      <td>0.162815</td>\n",
              "    </tr>\n",
              "    <tr>\n",
              "      <th>std</th>\n",
              "      <td>0.859968</td>\n",
              "      <td>2.356687</td>\n",
              "      <td>1.685923</td>\n",
              "      <td>0.524944</td>\n",
              "      <td>0.367449</td>\n",
              "      <td>4.058102</td>\n",
              "      <td>2.427992</td>\n",
              "      <td>0.129687</td>\n",
              "      <td>0.220302</td>\n",
              "      <td>0.140833</td>\n",
              "    </tr>\n",
              "    <tr>\n",
              "      <th>min</th>\n",
              "      <td>1.000000</td>\n",
              "      <td>1.000000</td>\n",
              "      <td>6.100000</td>\n",
              "      <td>0.150000</td>\n",
              "      <td>1.520000</td>\n",
              "      <td>63.000000</td>\n",
              "      <td>4.480000</td>\n",
              "      <td>0.000000</td>\n",
              "      <td>0.000000</td>\n",
              "      <td>0.010000</td>\n",
              "    </tr>\n",
              "    <tr>\n",
              "      <th>25%</th>\n",
              "      <td>1.000000</td>\n",
              "      <td>3.000000</td>\n",
              "      <td>10.950000</td>\n",
              "      <td>0.877500</td>\n",
              "      <td>2.050000</td>\n",
              "      <td>70.000000</td>\n",
              "      <td>7.707500</td>\n",
              "      <td>0.260000</td>\n",
              "      <td>0.500000</td>\n",
              "      <td>0.020000</td>\n",
              "    </tr>\n",
              "    <tr>\n",
              "      <th>50%</th>\n",
              "      <td>1.000000</td>\n",
              "      <td>3.000000</td>\n",
              "      <td>12.010000</td>\n",
              "      <td>1.100000</td>\n",
              "      <td>2.230000</td>\n",
              "      <td>73.025000</td>\n",
              "      <td>10.300000</td>\n",
              "      <td>0.330000</td>\n",
              "      <td>0.610000</td>\n",
              "      <td>0.170000</td>\n",
              "    </tr>\n",
              "    <tr>\n",
              "      <th>75%</th>\n",
              "      <td>3.000000</td>\n",
              "      <td>7.000000</td>\n",
              "      <td>13.600000</td>\n",
              "      <td>1.692500</td>\n",
              "      <td>2.490000</td>\n",
              "      <td>76.800000</td>\n",
              "      <td>11.807500</td>\n",
              "      <td>0.402500</td>\n",
              "      <td>0.700000</td>\n",
              "      <td>0.280000</td>\n",
              "    </tr>\n",
              "    <tr>\n",
              "      <th>max</th>\n",
              "      <td>3.000000</td>\n",
              "      <td>9.000000</td>\n",
              "      <td>17.530000</td>\n",
              "      <td>2.800000</td>\n",
              "      <td>3.750000</td>\n",
              "      <td>84.100000</td>\n",
              "      <td>14.700000</td>\n",
              "      <td>0.740000</td>\n",
              "      <td>1.050000</td>\n",
              "      <td>0.580000</td>\n",
              "    </tr>\n",
              "  </tbody>\n",
              "</table>\n",
              "</div>"
            ],
            "text/plain": [
              "           region        area    palmitic  ...   linolenic   arachidic  eicosenoic\n",
              "count  572.000000  572.000000  572.000000  ...  572.000000  572.000000  572.000000\n",
              "mean     1.699301    4.599650   12.317413  ...    0.318881    0.580979    0.162815\n",
              "std      0.859968    2.356687    1.685923  ...    0.129687    0.220302    0.140833\n",
              "min      1.000000    1.000000    6.100000  ...    0.000000    0.000000    0.010000\n",
              "25%      1.000000    3.000000   10.950000  ...    0.260000    0.500000    0.020000\n",
              "50%      1.000000    3.000000   12.010000  ...    0.330000    0.610000    0.170000\n",
              "75%      3.000000    7.000000   13.600000  ...    0.402500    0.700000    0.280000\n",
              "max      3.000000    9.000000   17.530000  ...    0.740000    1.050000    0.580000\n",
              "\n",
              "[8 rows x 10 columns]"
            ]
          },
          "metadata": {
            "tags": []
          },
          "execution_count": 7
        }
      ]
    },
    {
      "cell_type": "markdown",
      "metadata": {
        "id": "1imKQWUSy3lJ"
      },
      "source": [
        "## Figuring the South of Italy by Area"
      ]
    },
    {
      "cell_type": "code",
      "metadata": {
        "jupyter": {
          "outputs_hidden": false
        },
        "id": "SnNfVOPWy3lK",
        "outputId": "09186062-897a-4bd6-9700-670f0edda17f",
        "colab": {
          "base_uri": "https://localhost:8080/",
          "height": 204
        }
      },
      "source": [
        "dfsouth=df[df.regionstring=='South']\n",
        "dfsouth.head()"
      ],
      "execution_count": 8,
      "outputs": [
        {
          "output_type": "execute_result",
          "data": {
            "text/html": [
              "<div>\n",
              "<style scoped>\n",
              "    .dataframe tbody tr th:only-of-type {\n",
              "        vertical-align: middle;\n",
              "    }\n",
              "\n",
              "    .dataframe tbody tr th {\n",
              "        vertical-align: top;\n",
              "    }\n",
              "\n",
              "    .dataframe thead th {\n",
              "        text-align: right;\n",
              "    }\n",
              "</style>\n",
              "<table border=\"1\" class=\"dataframe\">\n",
              "  <thead>\n",
              "    <tr style=\"text-align: right;\">\n",
              "      <th></th>\n",
              "      <th>areastring</th>\n",
              "      <th>region</th>\n",
              "      <th>area</th>\n",
              "      <th>palmitic</th>\n",
              "      <th>palmitoleic</th>\n",
              "      <th>stearic</th>\n",
              "      <th>oleic</th>\n",
              "      <th>linoleic</th>\n",
              "      <th>linolenic</th>\n",
              "      <th>arachidic</th>\n",
              "      <th>eicosenoic</th>\n",
              "      <th>regionstring</th>\n",
              "    </tr>\n",
              "  </thead>\n",
              "  <tbody>\n",
              "    <tr>\n",
              "      <th>0</th>\n",
              "      <td>North-Apulia</td>\n",
              "      <td>1</td>\n",
              "      <td>1</td>\n",
              "      <td>10.75</td>\n",
              "      <td>0.75</td>\n",
              "      <td>2.26</td>\n",
              "      <td>78.23</td>\n",
              "      <td>6.72</td>\n",
              "      <td>0.36</td>\n",
              "      <td>0.60</td>\n",
              "      <td>0.29</td>\n",
              "      <td>South</td>\n",
              "    </tr>\n",
              "    <tr>\n",
              "      <th>1</th>\n",
              "      <td>North-Apulia</td>\n",
              "      <td>1</td>\n",
              "      <td>1</td>\n",
              "      <td>10.88</td>\n",
              "      <td>0.73</td>\n",
              "      <td>2.24</td>\n",
              "      <td>77.09</td>\n",
              "      <td>7.81</td>\n",
              "      <td>0.31</td>\n",
              "      <td>0.61</td>\n",
              "      <td>0.29</td>\n",
              "      <td>South</td>\n",
              "    </tr>\n",
              "    <tr>\n",
              "      <th>2</th>\n",
              "      <td>North-Apulia</td>\n",
              "      <td>1</td>\n",
              "      <td>1</td>\n",
              "      <td>9.11</td>\n",
              "      <td>0.54</td>\n",
              "      <td>2.46</td>\n",
              "      <td>81.13</td>\n",
              "      <td>5.49</td>\n",
              "      <td>0.31</td>\n",
              "      <td>0.63</td>\n",
              "      <td>0.29</td>\n",
              "      <td>South</td>\n",
              "    </tr>\n",
              "    <tr>\n",
              "      <th>3</th>\n",
              "      <td>North-Apulia</td>\n",
              "      <td>1</td>\n",
              "      <td>1</td>\n",
              "      <td>9.66</td>\n",
              "      <td>0.57</td>\n",
              "      <td>2.40</td>\n",
              "      <td>79.52</td>\n",
              "      <td>6.19</td>\n",
              "      <td>0.50</td>\n",
              "      <td>0.78</td>\n",
              "      <td>0.35</td>\n",
              "      <td>South</td>\n",
              "    </tr>\n",
              "    <tr>\n",
              "      <th>4</th>\n",
              "      <td>North-Apulia</td>\n",
              "      <td>1</td>\n",
              "      <td>1</td>\n",
              "      <td>10.51</td>\n",
              "      <td>0.67</td>\n",
              "      <td>2.59</td>\n",
              "      <td>77.71</td>\n",
              "      <td>6.72</td>\n",
              "      <td>0.50</td>\n",
              "      <td>0.80</td>\n",
              "      <td>0.46</td>\n",
              "      <td>South</td>\n",
              "    </tr>\n",
              "  </tbody>\n",
              "</table>\n",
              "</div>"
            ],
            "text/plain": [
              "     areastring  region  area  ...  arachidic  eicosenoic  regionstring\n",
              "0  North-Apulia       1     1  ...       0.60        0.29         South\n",
              "1  North-Apulia       1     1  ...       0.61        0.29         South\n",
              "2  North-Apulia       1     1  ...       0.63        0.29         South\n",
              "3  North-Apulia       1     1  ...       0.78        0.35         South\n",
              "4  North-Apulia       1     1  ...       0.80        0.46         South\n",
              "\n",
              "[5 rows x 12 columns]"
            ]
          },
          "metadata": {
            "tags": []
          },
          "execution_count": 8
        }
      ]
    },
    {
      "cell_type": "code",
      "metadata": {
        "jupyter": {
          "outputs_hidden": false
        },
        "id": "4fxM9y_Ey3lK",
        "outputId": "4481097a-2930-4963-df0c-7a4b1f9f69ab",
        "colab": {
          "base_uri": "https://localhost:8080/",
          "height": 204
        }
      },
      "source": [
        "dfnosouth=df[df.regionstring!='South']\n",
        "dfnosouth.head()"
      ],
      "execution_count": 9,
      "outputs": [
        {
          "output_type": "execute_result",
          "data": {
            "text/html": [
              "<div>\n",
              "<style scoped>\n",
              "    .dataframe tbody tr th:only-of-type {\n",
              "        vertical-align: middle;\n",
              "    }\n",
              "\n",
              "    .dataframe tbody tr th {\n",
              "        vertical-align: top;\n",
              "    }\n",
              "\n",
              "    .dataframe thead th {\n",
              "        text-align: right;\n",
              "    }\n",
              "</style>\n",
              "<table border=\"1\" class=\"dataframe\">\n",
              "  <thead>\n",
              "    <tr style=\"text-align: right;\">\n",
              "      <th></th>\n",
              "      <th>areastring</th>\n",
              "      <th>region</th>\n",
              "      <th>area</th>\n",
              "      <th>palmitic</th>\n",
              "      <th>palmitoleic</th>\n",
              "      <th>stearic</th>\n",
              "      <th>oleic</th>\n",
              "      <th>linoleic</th>\n",
              "      <th>linolenic</th>\n",
              "      <th>arachidic</th>\n",
              "      <th>eicosenoic</th>\n",
              "      <th>regionstring</th>\n",
              "    </tr>\n",
              "  </thead>\n",
              "  <tbody>\n",
              "    <tr>\n",
              "      <th>323</th>\n",
              "      <td>Inland-Sardinia</td>\n",
              "      <td>2</td>\n",
              "      <td>5</td>\n",
              "      <td>11.29</td>\n",
              "      <td>1.20</td>\n",
              "      <td>2.22</td>\n",
              "      <td>72.72</td>\n",
              "      <td>11.12</td>\n",
              "      <td>0.43</td>\n",
              "      <td>0.98</td>\n",
              "      <td>0.02</td>\n",
              "      <td>Sardinia</td>\n",
              "    </tr>\n",
              "    <tr>\n",
              "      <th>324</th>\n",
              "      <td>Inland-Sardinia</td>\n",
              "      <td>2</td>\n",
              "      <td>5</td>\n",
              "      <td>10.42</td>\n",
              "      <td>1.35</td>\n",
              "      <td>2.10</td>\n",
              "      <td>73.76</td>\n",
              "      <td>11.16</td>\n",
              "      <td>0.35</td>\n",
              "      <td>0.90</td>\n",
              "      <td>0.03</td>\n",
              "      <td>Sardinia</td>\n",
              "    </tr>\n",
              "    <tr>\n",
              "      <th>325</th>\n",
              "      <td>Inland-Sardinia</td>\n",
              "      <td>2</td>\n",
              "      <td>5</td>\n",
              "      <td>11.03</td>\n",
              "      <td>0.96</td>\n",
              "      <td>2.10</td>\n",
              "      <td>73.80</td>\n",
              "      <td>10.85</td>\n",
              "      <td>0.32</td>\n",
              "      <td>0.94</td>\n",
              "      <td>0.03</td>\n",
              "      <td>Sardinia</td>\n",
              "    </tr>\n",
              "    <tr>\n",
              "      <th>326</th>\n",
              "      <td>Inland-Sardinia</td>\n",
              "      <td>2</td>\n",
              "      <td>5</td>\n",
              "      <td>11.18</td>\n",
              "      <td>0.97</td>\n",
              "      <td>2.21</td>\n",
              "      <td>72.79</td>\n",
              "      <td>11.54</td>\n",
              "      <td>0.35</td>\n",
              "      <td>0.94</td>\n",
              "      <td>0.02</td>\n",
              "      <td>Sardinia</td>\n",
              "    </tr>\n",
              "    <tr>\n",
              "      <th>327</th>\n",
              "      <td>Inland-Sardinia</td>\n",
              "      <td>2</td>\n",
              "      <td>5</td>\n",
              "      <td>10.52</td>\n",
              "      <td>0.95</td>\n",
              "      <td>2.15</td>\n",
              "      <td>73.88</td>\n",
              "      <td>11.26</td>\n",
              "      <td>0.31</td>\n",
              "      <td>0.92</td>\n",
              "      <td>0.01</td>\n",
              "      <td>Sardinia</td>\n",
              "    </tr>\n",
              "  </tbody>\n",
              "</table>\n",
              "</div>"
            ],
            "text/plain": [
              "          areastring  region  area  ...  arachidic  eicosenoic  regionstring\n",
              "323  Inland-Sardinia       2     5  ...       0.98        0.02      Sardinia\n",
              "324  Inland-Sardinia       2     5  ...       0.90        0.03      Sardinia\n",
              "325  Inland-Sardinia       2     5  ...       0.94        0.03      Sardinia\n",
              "326  Inland-Sardinia       2     5  ...       0.94        0.02      Sardinia\n",
              "327  Inland-Sardinia       2     5  ...       0.92        0.01      Sardinia\n",
              "\n",
              "[5 rows x 12 columns]"
            ]
          },
          "metadata": {
            "tags": []
          },
          "execution_count": 9
        }
      ]
    },
    {
      "cell_type": "markdown",
      "metadata": {
        "id": "1RwME2gcy3lK"
      },
      "source": [
        "## SVM on training data for Regions"
      ]
    },
    {
      "cell_type": "markdown",
      "metadata": {
        "id": "nXMxJWpNy3lK"
      },
      "source": [
        "Diagram from Jesse Johnson's excellent Shape of Data;\n",
        "http://shapeofdata.wordpress.com/2013/05/14/linear-separation-and-support-vector-machines/\n",
        "\n",
        "\n",
        "![max margin](https://github.com/iniyan1984/HackDay/blob/main/images/svm.png?raw=1) \n",
        "\n",
        "The idea is to draw a line in space between the classes. But not any line, but the line which gives the `maximum margin` rectangle between points of different classes.\n",
        "\n",
        "from http://nlp.stanford.edu/IR-book/html/htmledition/support-vector-machines-the-linearly-separable-case-1.html :\n",
        "![support vectors](https://github.com/iniyan1984/HackDay/blob/main/images/img1260.png?raw=1)\n",
        "\n",
        "The points right at the boundary are called the support vectors, which is where the name comes from.\n",
        "\n",
        "But what if the separability is not so simple, and there are points intruding?\n",
        "\n",
        "![intrusion](https://github.com/iniyan1984/HackDay/blob/main/images/svm21.png?raw=1)\n",
        "\n",
        "Then the idea is to minimize the distance of the \"crossed over\" points from the separating line. These crossed over points are costed using \"slack\" vectors. You dont want too many of these.\n",
        "\n",
        "You obtain the line by minimizing the [Hinge Loss](http://en.wikipedia.org/wiki/Hinge_loss)"
      ]
    },
    {
      "cell_type": "code",
      "metadata": {
        "id": "thEhNHAyy3lL"
      },
      "source": [
        "from ipywidgets import interact\n",
        "import ipywidgets as widgets"
      ],
      "execution_count": 11,
      "outputs": []
    },
    {
      "cell_type": "code",
      "metadata": {
        "jupyter": {
          "outputs_hidden": false
        },
        "id": "_4-VqHEOy3lL",
        "outputId": "ca61b417-4a3d-48d5-e3ec-3f65295f68c9",
        "colab": {
          "base_uri": "https://localhost:8080/",
          "height": 301,
          "referenced_widgets": [
            "fb38bf99b21c419483e855596f720834",
            "bc5cd2c45cc84fb5b625127753fb00ef",
            "d43e9699b20b41b68b6ccaf8ce10426b",
            "ea17717ce0ea4b38a9d3858c7bd69f11",
            "a6f3734f4ac748b6999f2844ac8d1472",
            "bb8a42ad601e45b495648d9e30623179",
            "d68549373538404d9e343b3e05fdf316"
          ]
        }
      },
      "source": [
        "from sklearn.model_selection import train_test_split\n",
        "from sklearn.metrics import confusion_matrix\n",
        "#Stolen from Jake's notebooks, above: https://github.com/jakevdp/ESAC-stats-2014\n",
        "from sklearn.datasets import make_blobs\n",
        "from sklearn.svm import SVC # \"Support Vector Classifier\"\n",
        "\n",
        "def plot_svc_decision_function(clf, ax=None):\n",
        "    \"\"\"Plot the decision function for a 2D SVC\"\"\"\n",
        "    if ax is None:\n",
        "        ax = plt.gca()\n",
        "    x = np.linspace(plt.xlim()[0], plt.xlim()[1], 30)\n",
        "    y = np.linspace(plt.ylim()[0], plt.ylim()[1], 30)\n",
        "    Y, X = np.meshgrid(y, x)\n",
        "    P = np.zeros_like(X)\n",
        "    for i, xi in enumerate(x):\n",
        "        for j, yj in enumerate(y):\n",
        "            P[i, j] = clf.decision_function([[xi, yj]])\n",
        "    return ax.contour(X, Y, P, colors='k',\n",
        "                      levels=[-1, 0, 1], alpha=0.5,\n",
        "                      linestyles=['--', '-', '--'])\n",
        "\n",
        "def plot_svm(N):\n",
        "    X, y = make_blobs(n_samples=200, centers=2,\n",
        "                      random_state=0, cluster_std=0.60)\n",
        "    X = X[:N]\n",
        "    y = y[:N]\n",
        "    clf = SVC(kernel='linear')\n",
        "    clf.fit(X, y)\n",
        "    plt.scatter(X[:, 0], X[:, 1], c=y, s=50, cmap='spring')\n",
        "    plt.xlim(-1, 4)\n",
        "    plt.ylim(-1, 6)\n",
        "    plot_svc_decision_function(clf, plt.gca())\n",
        "    plt.scatter(clf.support_vectors_[:, 0], clf.support_vectors_[:, 1],\n",
        "                s=200, facecolors='none')\n",
        "    \n",
        "#interact(plot_svm, N=[10, 200]);\n",
        "interact(plot_svm, N=widgets.IntSlider(min=10, max=200, step=10, value=90));"
      ],
      "execution_count": 12,
      "outputs": [
        {
          "output_type": "display_data",
          "data": {
            "application/vnd.jupyter.widget-view+json": {
              "model_id": "fb38bf99b21c419483e855596f720834",
              "version_minor": 0,
              "version_major": 2
            },
            "text/plain": [
              "interactive(children=(IntSlider(value=90, description='N', max=200, min=10, step=10), Output()), _dom_classes=…"
            ]
          },
          "metadata": {
            "tags": []
          }
        }
      ]
    },
    {
      "cell_type": "markdown",
      "metadata": {
        "id": "MEfToExty3lL"
      },
      "source": [
        "Notice how the points that mainly matter are the ones which are near the support vector. If new such points come in, the prediction can change."
      ]
    },
    {
      "cell_type": "markdown",
      "metadata": {
        "id": "6kWJ-SmAy3lL"
      },
      "source": [
        "## Training a SVM\n",
        "\n",
        "We just do two acids to start and illustrate. We'll try and see if an Olive oil is from Sardinia or not!"
      ]
    },
    {
      "cell_type": "code",
      "metadata": {
        "id": "3-1L5mt7y3lM"
      },
      "source": [
        "X = dfnosouth[['linoleic', 'arachidic']]\n",
        "X = dfnosouth[['linolenic', 'arachidic']]\n",
        "\n",
        "\n",
        "y = (dfnosouth.regionstring.values=='Sardinia')*1"
      ],
      "execution_count": 14,
      "outputs": []
    },
    {
      "cell_type": "markdown",
      "metadata": {
        "id": "Wkxefjrmy3lM"
      },
      "source": [
        "### Q1: Standardize the data set the correct way\n",
        "\n",
        "The correct way, unlike what we have done earlier is to standardize the training and test sets separately. Why is this?\n",
        "\n",
        "You are **not supposed to have seen the test set**. If you do, you are contaminating the training set and your results and error will have an optimistic bias on the training set.\n",
        "\n",
        "Indeed you will need to standardize the test set data to do your predictions by the mean and the standard deviation learned on the training set!\n",
        "\n",
        "Store the standardized data in `Xtrain, Xtest, ytrain, ytest`"
      ]
    },
    {
      "cell_type": "code",
      "metadata": {
        "jupyter": {
          "outputs_hidden": false
        },
        "id": "H4G6xE_3y3lM",
        "outputId": "c45dfdff-d478-44fb-9646-4436c5707d07",
        "colab": {
          "base_uri": "https://localhost:8080/"
        }
      },
      "source": [
        "# your code here\n",
        "Xtrain_ns,Xtest_ns,ytrain,ytest = train_test_split(X.values,y,random_state = 1973,train_size = 0.6)\n",
        "Xtrain_ns.shape\n",
        "\n",
        "\n"
      ],
      "execution_count": 21,
      "outputs": [
        {
          "output_type": "execute_result",
          "data": {
            "text/plain": [
              "(149, 2)"
            ]
          },
          "metadata": {
            "tags": []
          },
          "execution_count": 21
        }
      ]
    },
    {
      "cell_type": "code",
      "metadata": {
        "id": "nzcPrqum6QpN"
      },
      "source": [
        "Xtrain = (Xtrain_ns-np.mean(Xtrain_ns,axis = 0))/np.std(Xtrain_ns,axis = 0)\n",
        "Xtest = (Xtest_ns-np.mean(Xtrain_ns,axis = 0))/np.std(Xtrain_ns,axis = 0)"
      ],
      "execution_count": 22,
      "outputs": []
    },
    {
      "cell_type": "code",
      "metadata": {
        "id": "8BEzOauVy3lM",
        "outputId": "6af13d1d-8984-46ed-d430-3051769d3ebb",
        "colab": {
          "base_uri": "https://localhost:8080/"
        }
      },
      "source": [
        "Xtrain.shape, Xtest.shape"
      ],
      "execution_count": 18,
      "outputs": [
        {
          "output_type": "execute_result",
          "data": {
            "text/plain": [
              "((149, 2), (100, 2))"
            ]
          },
          "metadata": {
            "tags": []
          },
          "execution_count": 18
        }
      ]
    },
    {
      "cell_type": "markdown",
      "metadata": {
        "id": "JxjeB7Xly3lM"
      },
      "source": [
        "Now fit the SVM with a \"linear\" kernel."
      ]
    },
    {
      "cell_type": "code",
      "metadata": {
        "jupyter": {
          "outputs_hidden": false
        },
        "id": "yD-7Mrs_y3lN",
        "outputId": "cf4392cc-c38c-4d85-bb41-74e10a8c2897",
        "colab": {
          "base_uri": "https://localhost:8080/"
        }
      },
      "source": [
        "# your code here\n",
        "clf = SVC(kernel = \"linear\")\n",
        "clf.fit(Xtrain,ytrain)\n"
      ],
      "execution_count": 23,
      "outputs": [
        {
          "output_type": "execute_result",
          "data": {
            "text/plain": [
              "SVC(C=1.0, break_ties=False, cache_size=200, class_weight=None, coef0=0.0,\n",
              "    decision_function_shape='ovr', degree=3, gamma='scale', kernel='linear',\n",
              "    max_iter=-1, probability=False, random_state=None, shrinking=True,\n",
              "    tol=0.001, verbose=False)"
            ]
          },
          "metadata": {
            "tags": []
          },
          "execution_count": 23
        }
      ]
    },
    {
      "cell_type": "code",
      "metadata": {
        "jupyter": {
          "outputs_hidden": false
        },
        "id": "XuzAQ6y7y3lN",
        "outputId": "e489c2bb-d861-4e6f-c1e1-9cb00465ad0d",
        "colab": {
          "base_uri": "https://localhost:8080/",
          "height": 483
        }
      },
      "source": [
        "plt.figure(figsize=(12, 8))\n",
        "plt.scatter(Xtrain[:, 0], Xtrain[:, 1], c=ytrain, s=50, cmap='spring', alpha=0.3)\n",
        "plot_svc_decision_function(clf, plt.gca())\n",
        "plt.scatter(clf.support_vectors_[:, 0], clf.support_vectors_[:, 1],\n",
        "                s=100, edgecolors='k', facecolors='none')\n",
        "plt.scatter(Xtest[:, 0], Xtest[:, 1], c=ytest, s=50, marker=\"s\", cmap='spring', alpha=0.5);"
      ],
      "execution_count": 24,
      "outputs": [
        {
          "output_type": "display_data",
          "data": {
            "image/png": "[encoded data removed]",
            "text/plain": [
              "<Figure size 864x576 with 1 Axes>"
            ]
          },
          "metadata": {
            "tags": [],
            "needs_background": "light"
          }
        }
      ]
    },
    {
      "cell_type": "code",
      "metadata": {
        "id": "unYVerfry3lN",
        "outputId": "b625de78-1dc6-4336-9c38-68bb85ef7824",
        "colab": {
          "base_uri": "https://localhost:8080/",
          "height": 483
        }
      },
      "source": [
        "plt.figure(figsize=(12, 8))\n",
        "plt.scatter(Xtrain[:, 0], Xtrain[:, 1], c=ytrain, s=50, cmap='spring', alpha=0.3)\n",
        "plot_svc_decision_function(clf, plt.gca())\n",
        "plt.scatter(clf.support_vectors_[:, 0], clf.support_vectors_[:, 1],\n",
        "                s=100, edgecolors='k', facecolors='none')\n",
        "plt.scatter(Xtest[:, 0], Xtest[:, 1], c=clf.predict(Xtest), s=50, marker=\"s\", cmap='spring', alpha=0.5);"
      ],
      "execution_count": 25,
      "outputs": [
        {
          "output_type": "display_data",
          "data": {
            "image/png": "[encoded data removed]",
            "text/plain": [
              "<Figure size 864x576 with 1 Axes>"
            ]
          },
          "metadata": {
            "tags": [],
            "needs_background": "light"
          }
        }
      ]
    },
    {
      "cell_type": "markdown",
      "metadata": {
        "id": "7hT4OV90y3lN"
      },
      "source": [
        "What is our accuracy?"
      ]
    },
    {
      "cell_type": "code",
      "metadata": {
        "jupyter": {
          "outputs_hidden": false
        },
        "id": "IcMy37E8y3lO"
      },
      "source": [
        "# your code here\n"
      ],
      "execution_count": null,
      "outputs": []
    },
    {
      "cell_type": "markdown",
      "metadata": {
        "id": "dOJ2eWiLy3lO"
      },
      "source": [
        "## The Kernel Trick\n",
        "\n",
        "Often in SVMs one uses the [kernel trick](http://en.wikipedia.org/wiki/Kernel_method), which maps a lower dimension to a higher one to make things separable.\n",
        "\n",
        "See (from above mentioned book)\n",
        "\n",
        "![](https://github.com/iniyan1984/HackDay/blob/main/images/img1331.png?raw=1)\n",
        "\n",
        "So lets see what using a Radial Gaussian kernel look like?\n",
        "\n",
        "$$e^{-\\gamma d(x_1,x_2)^2}$$\n",
        "\n",
        "\n",
        "### Q2: Train a radial kernel\n",
        "\n",
        "Train a radial kernel by looking up the documentation. For simplicity we'll start by using the default hyperparameters"
      ]
    },
    {
      "cell_type": "code",
      "metadata": {
        "jupyter": {
          "outputs_hidden": false
        },
        "id": "IYUBV_8g_t1y",
        "outputId": "dd8fdf93-5955-4fd7-a2a0-bf3143508398",
        "colab": {
          "base_uri": "https://localhost:8080/"
        }
      },
      "source": [
        "# your code here\n",
        "clf = SVC()\n",
        "clf.fit(Xtrain, ytrain)"
      ],
      "execution_count": 26,
      "outputs": [
        {
          "output_type": "execute_result",
          "data": {
            "text/plain": [
              "SVC(C=1.0, break_ties=False, cache_size=200, class_weight=None, coef0=0.0,\n",
              "    decision_function_shape='ovr', degree=3, gamma='scale', kernel='rbf',\n",
              "    max_iter=-1, probability=False, random_state=None, shrinking=True,\n",
              "    tol=0.001, verbose=False)"
            ]
          },
          "metadata": {
            "tags": []
          },
          "execution_count": 26
        }
      ]
    },
    {
      "cell_type": "code",
      "metadata": {
        "jupyter": {
          "outputs_hidden": false
        },
        "id": "TDQRHfvoy3lO",
        "outputId": "86524a1b-bd6b-4473-e7a4-9a70acfe170c",
        "colab": {
          "base_uri": "https://localhost:8080/",
          "height": 483
        }
      },
      "source": [
        "plt.figure(figsize=(12, 8))\n",
        "plt.scatter(Xtrain[:, 0], Xtrain[:, 1], c=ytrain, s=50, cmap='spring', alpha=0.3)\n",
        "plot_svc_decision_function(clf, plt.gca())\n",
        "plt.scatter(clf.support_vectors_[:, 0], clf.support_vectors_[:, 1],\n",
        "                s=100, facecolors='none', edgecolors='k')\n",
        "plt.scatter(Xtest[:, 0], Xtest[:, 1], c=ytest, s=50, marker=\"s\", cmap='spring', alpha=0.5);"
      ],
      "execution_count": 27,
      "outputs": [
        {
          "output_type": "display_data",
          "data": {
            "image/png": "[encoded data removed]",
            "text/plain": [
              "<Figure size 864x576 with 1 Axes>"
            ]
          },
          "metadata": {
            "tags": [],
            "needs_background": "light"
          }
        }
      ]
    },
    {
      "cell_type": "markdown",
      "metadata": {
        "id": "rxQHhf6dy3lP"
      },
      "source": [
        " Compute the confusion matric and the accuracy score!"
      ]
    },
    {
      "cell_type": "code",
      "metadata": {
        "id": "pKTyQyliB7F2",
        "outputId": "f4f55363-9efe-40c2-f2c5-686f51666461",
        "colab": {
          "base_uri": "https://localhost:8080/"
        }
      },
      "source": [
        "confusion_matrix(clf.predict(Xtest), ytest)"
      ],
      "execution_count": 30,
      "outputs": [
        {
          "output_type": "execute_result",
          "data": {
            "text/plain": [
              "array([[59,  7],\n",
              "       [10, 24]])"
            ]
          },
          "metadata": {
            "tags": []
          },
          "execution_count": 30
        }
      ]
    },
    {
      "cell_type": "code",
      "metadata": {
        "jupyter": {
          "outputs_hidden": false
        },
        "id": "HA3F3R_i-osF",
        "colab": {
          "base_uri": "https://localhost:8080/"
        },
        "outputId": "d595282c-66ac-470e-afd8-969d21ab0ce9"
      },
      "source": [
        "# your code here\n",
        "clf = SVC()\n",
        "clf.fit(Xtrain, ytrain)"
      ],
      "execution_count": 28,
      "outputs": [
        {
          "output_type": "execute_result",
          "data": {
            "text/plain": [
              "SVC(C=1.0, break_ties=False, cache_size=200, class_weight=None, coef0=0.0,\n",
              "    decision_function_shape='ovr', degree=3, gamma='scale', kernel='rbf',\n",
              "    max_iter=-1, probability=False, random_state=None, shrinking=True,\n",
              "    tol=0.001, verbose=False)"
            ]
          },
          "metadata": {
            "tags": []
          },
          "execution_count": 28
        }
      ]
    },
    {
      "cell_type": "code",
      "metadata": {
        "id": "Fd_LMeSNy3lP",
        "outputId": "5a3a791e-bbf7-4c94-d70f-dafe4e85c3ac",
        "colab": {
          "base_uri": "https://localhost:8080/"
        }
      },
      "source": [
        "clf.score(Xtest, ytest)"
      ],
      "execution_count": 29,
      "outputs": [
        {
          "output_type": "execute_result",
          "data": {
            "text/plain": [
              "0.83"
            ]
          },
          "metadata": {
            "tags": []
          },
          "execution_count": 29
        }
      ]
    },
    {
      "cell_type": "markdown",
      "metadata": {
        "id": "vBBAsSguy3lP"
      },
      "source": [
        "### Q3: Use cross validation\n",
        "\n",
        "This is a take away for home. Use cross validation to estimate the hyper-parameters of this model. These are the regularization and the kernel radius.\n",
        "\n",
        "This page will help: https://scikit-learn.org/stable/auto_examples/svm/plot_rbf_parameters.html\n",
        "\n",
        "Discuss on discourse!"
      ]
    },
    {
      "cell_type": "code",
      "metadata": {
        "id": "1ctajG0JH9DK"
      },
      "source": [
        ""
      ],
      "execution_count": null,
      "outputs": []
    },
    {
      "cell_type": "markdown",
      "metadata": {
        "id": "MHjb5H8Fy3lP"
      },
      "source": [
        "## Detective work\n",
        "\n",
        "See if you can separate out sicilian olive oils using either SVM or logistic regression or kNN.\n",
        "\n",
        "When you do this you might learn something about how the olive oil industry works...\n",
        "\n",
        "Discuss on discourse!"
      ]
    }
  ]
}